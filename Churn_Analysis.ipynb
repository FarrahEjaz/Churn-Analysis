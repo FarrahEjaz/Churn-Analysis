{
  "cells": [
    {
      "cell_type": "markdown",
      "metadata": {
        "id": "view-in-github",
        "colab_type": "text"
      },
      "source": [
        "<a href=\"https://colab.research.google.com/github/FarrahEjaz/Churn-Analysis/blob/main/Churn_Analysis.ipynb\" target=\"_parent\"><img src=\"https://colab.research.google.com/assets/colab-badge.svg\" alt=\"Open In Colab\"/></a>"
      ]
    },
    {
      "cell_type": "markdown",
      "metadata": {
        "id": "NOMYAK4mUy3J"
      },
      "source": [
        "###Credit Card Churn Analysis EDA"
      ]
    },
    {
      "cell_type": "markdown",
      "metadata": {
        "id": "PR-5uLvlUfOZ"
      },
      "source": [
        "###Import Libraries"
      ]
    },
    {
      "cell_type": "code",
      "execution_count": null,
      "metadata": {
        "id": "4gy6PcpIJ0IH"
      },
      "outputs": [],
      "source": [
        "import pandas as pd\n",
        "import numpy as np\n",
        "import matplotlib.pyplot as plt\n",
        "import seaborn as sns\n",
        "sns.set()\n",
        "%matplotlib inline\n",
        "\n",
        "\n",
        "import warnings\n",
        "from collections import Counter\n",
        "warnings.filterwarnings('ignore')"
      ]
    },
    {
      "cell_type": "markdown",
      "metadata": {
        "id": "fU8KD7h6UnwF"
      },
      "source": [
        "###Load Data & Copy Data into df"
      ]
    },
    {
      "cell_type": "code",
      "execution_count": null,
      "metadata": {
        "id": "4HHZ308MKsZ7"
      },
      "outputs": [],
      "source": [
        "data = pd.read_csv('/content/BankChurners analysis.xlsx - Sheet1.csv')"
      ]
    },
    {
      "cell_type": "code",
      "execution_count": null,
      "metadata": {
        "id": "HK52uD2gLKZd"
      },
      "outputs": [],
      "source": [
        "df = data.copy()"
      ]
    },
    {
      "cell_type": "markdown",
      "metadata": {
        "id": "wlrkr2SlLbZr"
      },
      "source": [
        "### Basic Structure"
      ]
    },
    {
      "cell_type": "code",
      "execution_count": null,
      "metadata": {
        "colab": {
          "base_uri": "https://localhost:8080/"
        },
        "id": "YrqYBcLtLe_K",
        "outputId": "11c051a2-c587-4c53-9172-9308b492764d"
      },
      "outputs": [
        {
          "data": {
            "text/plain": [
              "(10127, 18)"
            ]
          },
          "execution_count": 36,
          "metadata": {},
          "output_type": "execute_result"
        }
      ],
      "source": [
        "df.shape"
      ]
    },
    {
      "cell_type": "code",
      "execution_count": null,
      "metadata": {
        "colab": {
          "base_uri": "https://localhost:8080/",
          "height": 357
        },
        "id": "Hrakue1yLpRy",
        "outputId": "72b2f670-a8ae-404b-8e7f-fca14066eac6"
      },
      "outputs": [
        {
          "data": {
            "text/html": [
              "\n",
              "  <div id=\"df-7613b159-7169-4ee6-849b-b5584f41b15b\">\n",
              "    <div class=\"colab-df-container\">\n",
              "      <div>\n",
              "<style scoped>\n",
              "    .dataframe tbody tr th:only-of-type {\n",
              "        vertical-align: middle;\n",
              "    }\n",
              "\n",
              "    .dataframe tbody tr th {\n",
              "        vertical-align: top;\n",
              "    }\n",
              "\n",
              "    .dataframe thead th {\n",
              "        text-align: right;\n",
              "    }\n",
              "</style>\n",
              "<table border=\"1\" class=\"dataframe\">\n",
              "  <thead>\n",
              "    <tr style=\"text-align: right;\">\n",
              "      <th></th>\n",
              "      <th>CLIENTNUM</th>\n",
              "      <th>Attrition_Flag</th>\n",
              "      <th>Customer_Age</th>\n",
              "      <th>Gender</th>\n",
              "      <th>Dependent_count</th>\n",
              "      <th>Education_Level</th>\n",
              "      <th>Marital_Status</th>\n",
              "      <th>Income_Category</th>\n",
              "      <th>Card_Category</th>\n",
              "      <th>Months_on_book</th>\n",
              "      <th>Total_Relationship_Count</th>\n",
              "      <th>Months_Inactive_12_mon</th>\n",
              "      <th>Credit_Limit</th>\n",
              "      <th>Total_Revolving_Bal</th>\n",
              "      <th>Avg_Open_To_Buy</th>\n",
              "      <th>Total_Trans_Amt</th>\n",
              "      <th>Total_Trans_Ct</th>\n",
              "      <th>Avg_Utilization_Ratio</th>\n",
              "    </tr>\n",
              "  </thead>\n",
              "  <tbody>\n",
              "    <tr>\n",
              "      <th>0</th>\n",
              "      <td>768805383</td>\n",
              "      <td>Existing Customer</td>\n",
              "      <td>45</td>\n",
              "      <td>M</td>\n",
              "      <td>3</td>\n",
              "      <td>High School</td>\n",
              "      <td>Married</td>\n",
              "      <td>$60K - $80K</td>\n",
              "      <td>Blue</td>\n",
              "      <td>39</td>\n",
              "      <td>5</td>\n",
              "      <td>1</td>\n",
              "      <td>12691.0</td>\n",
              "      <td>777</td>\n",
              "      <td>11914.0</td>\n",
              "      <td>1144</td>\n",
              "      <td>42</td>\n",
              "      <td>0.061</td>\n",
              "    </tr>\n",
              "    <tr>\n",
              "      <th>1</th>\n",
              "      <td>818770008</td>\n",
              "      <td>Existing Customer</td>\n",
              "      <td>49</td>\n",
              "      <td>F</td>\n",
              "      <td>5</td>\n",
              "      <td>Graduate</td>\n",
              "      <td>Single</td>\n",
              "      <td>Less than $40K</td>\n",
              "      <td>Blue</td>\n",
              "      <td>44</td>\n",
              "      <td>6</td>\n",
              "      <td>1</td>\n",
              "      <td>8256.0</td>\n",
              "      <td>864</td>\n",
              "      <td>7392.0</td>\n",
              "      <td>1291</td>\n",
              "      <td>33</td>\n",
              "      <td>0.105</td>\n",
              "    </tr>\n",
              "    <tr>\n",
              "      <th>2</th>\n",
              "      <td>713982108</td>\n",
              "      <td>Existing Customer</td>\n",
              "      <td>51</td>\n",
              "      <td>M</td>\n",
              "      <td>3</td>\n",
              "      <td>Graduate</td>\n",
              "      <td>Married</td>\n",
              "      <td>$80K - $120K</td>\n",
              "      <td>Blue</td>\n",
              "      <td>36</td>\n",
              "      <td>4</td>\n",
              "      <td>1</td>\n",
              "      <td>3418.0</td>\n",
              "      <td>0</td>\n",
              "      <td>3418.0</td>\n",
              "      <td>1887</td>\n",
              "      <td>20</td>\n",
              "      <td>0.000</td>\n",
              "    </tr>\n",
              "    <tr>\n",
              "      <th>3</th>\n",
              "      <td>769911858</td>\n",
              "      <td>Existing Customer</td>\n",
              "      <td>40</td>\n",
              "      <td>F</td>\n",
              "      <td>4</td>\n",
              "      <td>High School</td>\n",
              "      <td>Unknown</td>\n",
              "      <td>Less than $40K</td>\n",
              "      <td>Blue</td>\n",
              "      <td>34</td>\n",
              "      <td>3</td>\n",
              "      <td>4</td>\n",
              "      <td>3313.0</td>\n",
              "      <td>2517</td>\n",
              "      <td>796.0</td>\n",
              "      <td>1171</td>\n",
              "      <td>20</td>\n",
              "      <td>0.760</td>\n",
              "    </tr>\n",
              "    <tr>\n",
              "      <th>4</th>\n",
              "      <td>709106358</td>\n",
              "      <td>Existing Customer</td>\n",
              "      <td>40</td>\n",
              "      <td>M</td>\n",
              "      <td>3</td>\n",
              "      <td>Uneducated</td>\n",
              "      <td>Married</td>\n",
              "      <td>$60K - $80K</td>\n",
              "      <td>Blue</td>\n",
              "      <td>21</td>\n",
              "      <td>5</td>\n",
              "      <td>1</td>\n",
              "      <td>4716.0</td>\n",
              "      <td>0</td>\n",
              "      <td>4716.0</td>\n",
              "      <td>816</td>\n",
              "      <td>28</td>\n",
              "      <td>0.000</td>\n",
              "    </tr>\n",
              "  </tbody>\n",
              "</table>\n",
              "</div>\n",
              "      <button class=\"colab-df-convert\" onclick=\"convertToInteractive('df-7613b159-7169-4ee6-849b-b5584f41b15b')\"\n",
              "              title=\"Convert this dataframe to an interactive table.\"\n",
              "              style=\"display:none;\">\n",
              "        \n",
              "  <svg xmlns=\"http://www.w3.org/2000/svg\" height=\"24px\"viewBox=\"0 0 24 24\"\n",
              "       width=\"24px\">\n",
              "    <path d=\"M0 0h24v24H0V0z\" fill=\"none\"/>\n",
              "    <path d=\"M18.56 5.44l.94 2.06.94-2.06 2.06-.94-2.06-.94-.94-2.06-.94 2.06-2.06.94zm-11 1L8.5 8.5l.94-2.06 2.06-.94-2.06-.94L8.5 2.5l-.94 2.06-2.06.94zm10 10l.94 2.06.94-2.06 2.06-.94-2.06-.94-.94-2.06-.94 2.06-2.06.94z\"/><path d=\"M17.41 7.96l-1.37-1.37c-.4-.4-.92-.59-1.43-.59-.52 0-1.04.2-1.43.59L10.3 9.45l-7.72 7.72c-.78.78-.78 2.05 0 2.83L4 21.41c.39.39.9.59 1.41.59.51 0 1.02-.2 1.41-.59l7.78-7.78 2.81-2.81c.8-.78.8-2.07 0-2.86zM5.41 20L4 18.59l7.72-7.72 1.47 1.35L5.41 20z\"/>\n",
              "  </svg>\n",
              "      </button>\n",
              "      \n",
              "  <style>\n",
              "    .colab-df-container {\n",
              "      display:flex;\n",
              "      flex-wrap:wrap;\n",
              "      gap: 12px;\n",
              "    }\n",
              "\n",
              "    .colab-df-convert {\n",
              "      background-color: #E8F0FE;\n",
              "      border: none;\n",
              "      border-radius: 50%;\n",
              "      cursor: pointer;\n",
              "      display: none;\n",
              "      fill: #1967D2;\n",
              "      height: 32px;\n",
              "      padding: 0 0 0 0;\n",
              "      width: 32px;\n",
              "    }\n",
              "\n",
              "    .colab-df-convert:hover {\n",
              "      background-color: #E2EBFA;\n",
              "      box-shadow: 0px 1px 2px rgba(60, 64, 67, 0.3), 0px 1px 3px 1px rgba(60, 64, 67, 0.15);\n",
              "      fill: #174EA6;\n",
              "    }\n",
              "\n",
              "    [theme=dark] .colab-df-convert {\n",
              "      background-color: #3B4455;\n",
              "      fill: #D2E3FC;\n",
              "    }\n",
              "\n",
              "    [theme=dark] .colab-df-convert:hover {\n",
              "      background-color: #434B5C;\n",
              "      box-shadow: 0px 1px 3px 1px rgba(0, 0, 0, 0.15);\n",
              "      filter: drop-shadow(0px 1px 2px rgba(0, 0, 0, 0.3));\n",
              "      fill: #FFFFFF;\n",
              "    }\n",
              "  </style>\n",
              "\n",
              "      <script>\n",
              "        const buttonEl =\n",
              "          document.querySelector('#df-7613b159-7169-4ee6-849b-b5584f41b15b button.colab-df-convert');\n",
              "        buttonEl.style.display =\n",
              "          google.colab.kernel.accessAllowed ? 'block' : 'none';\n",
              "\n",
              "        async function convertToInteractive(key) {\n",
              "          const element = document.querySelector('#df-7613b159-7169-4ee6-849b-b5584f41b15b');\n",
              "          const dataTable =\n",
              "            await google.colab.kernel.invokeFunction('convertToInteractive',\n",
              "                                                     [key], {});\n",
              "          if (!dataTable) return;\n",
              "\n",
              "          const docLinkHtml = 'Like what you see? Visit the ' +\n",
              "            '<a target=\"_blank\" href=https://colab.research.google.com/notebooks/data_table.ipynb>data table notebook</a>'\n",
              "            + ' to learn more about interactive tables.';\n",
              "          element.innerHTML = '';\n",
              "          dataTable['output_type'] = 'display_data';\n",
              "          await google.colab.output.renderOutput(dataTable, element);\n",
              "          const docLink = document.createElement('div');\n",
              "          docLink.innerHTML = docLinkHtml;\n",
              "          element.appendChild(docLink);\n",
              "        }\n",
              "      </script>\n",
              "    </div>\n",
              "  </div>\n",
              "  "
            ],
            "text/plain": [
              "   CLIENTNUM     Attrition_Flag  Customer_Age Gender  Dependent_count  \\\n",
              "0  768805383  Existing Customer            45      M                3   \n",
              "1  818770008  Existing Customer            49      F                5   \n",
              "2  713982108  Existing Customer            51      M                3   \n",
              "3  769911858  Existing Customer            40      F                4   \n",
              "4  709106358  Existing Customer            40      M                3   \n",
              "\n",
              "  Education_Level Marital_Status Income_Category Card_Category  \\\n",
              "0     High School        Married     $60K - $80K          Blue   \n",
              "1        Graduate         Single  Less than $40K          Blue   \n",
              "2        Graduate        Married    $80K - $120K          Blue   \n",
              "3     High School        Unknown  Less than $40K          Blue   \n",
              "4      Uneducated        Married     $60K - $80K          Blue   \n",
              "\n",
              "   Months_on_book  Total_Relationship_Count  Months_Inactive_12_mon  \\\n",
              "0              39                         5                       1   \n",
              "1              44                         6                       1   \n",
              "2              36                         4                       1   \n",
              "3              34                         3                       4   \n",
              "4              21                         5                       1   \n",
              "\n",
              "   Credit_Limit  Total_Revolving_Bal  Avg_Open_To_Buy  Total_Trans_Amt  \\\n",
              "0       12691.0                  777          11914.0             1144   \n",
              "1        8256.0                  864           7392.0             1291   \n",
              "2        3418.0                    0           3418.0             1887   \n",
              "3        3313.0                 2517            796.0             1171   \n",
              "4        4716.0                    0           4716.0              816   \n",
              "\n",
              "   Total_Trans_Ct  Avg_Utilization_Ratio  \n",
              "0              42                  0.061  \n",
              "1              33                  0.105  \n",
              "2              20                  0.000  \n",
              "3              20                  0.760  \n",
              "4              28                  0.000  "
            ]
          },
          "execution_count": 41,
          "metadata": {},
          "output_type": "execute_result"
        }
      ],
      "source": [
        "df.head()"
      ]
    },
    {
      "cell_type": "code",
      "execution_count": null,
      "metadata": {
        "colab": {
          "base_uri": "https://localhost:8080/"
        },
        "id": "lneixEAMLxp7",
        "outputId": "9201ba59-ee40-47b4-c583-9d296107c9e0"
      },
      "outputs": [
        {
          "data": {
            "text/plain": [
              "CLIENTNUM                     int64\n",
              "Attrition_Flag               object\n",
              "Customer_Age                  int64\n",
              "Gender                       object\n",
              "Dependent_count               int64\n",
              "Education_Level              object\n",
              "Marital_Status               object\n",
              "Income_Category              object\n",
              "Card_Category                object\n",
              "Months_on_book                int64\n",
              "Total_Relationship_Count      int64\n",
              "Months_Inactive_12_mon        int64\n",
              "Credit_Limit                float64\n",
              "Total_Revolving_Bal           int64\n",
              "Avg_Open_To_Buy             float64\n",
              "Total_Trans_Amt               int64\n",
              "Total_Trans_Ct                int64\n",
              "Avg_Utilization_Ratio       float64\n",
              "dtype: object"
            ]
          },
          "execution_count": 6,
          "metadata": {},
          "output_type": "execute_result"
        }
      ],
      "source": [
        "df.dtypes"
      ]
    },
    {
      "cell_type": "code",
      "execution_count": null,
      "metadata": {
        "colab": {
          "base_uri": "https://localhost:8080/",
          "height": 364
        },
        "id": "LD6RNuf-L5VC",
        "outputId": "6850d15d-dc04-4673-de97-5230a00b330f"
      },
      "outputs": [
        {
          "data": {
            "text/html": [
              "\n",
              "  <div id=\"df-3b5e1d87-f26b-43c3-b0d0-6dbf7c9db9a0\">\n",
              "    <div class=\"colab-df-container\">\n",
              "      <div>\n",
              "<style scoped>\n",
              "    .dataframe tbody tr th:only-of-type {\n",
              "        vertical-align: middle;\n",
              "    }\n",
              "\n",
              "    .dataframe tbody tr th {\n",
              "        vertical-align: top;\n",
              "    }\n",
              "\n",
              "    .dataframe thead th {\n",
              "        text-align: right;\n",
              "    }\n",
              "</style>\n",
              "<table border=\"1\" class=\"dataframe\">\n",
              "  <thead>\n",
              "    <tr style=\"text-align: right;\">\n",
              "      <th></th>\n",
              "      <th>CLIENTNUM</th>\n",
              "      <th>Customer_Age</th>\n",
              "      <th>Dependent_count</th>\n",
              "      <th>Months_on_book</th>\n",
              "      <th>Total_Relationship_Count</th>\n",
              "      <th>Months_Inactive_12_mon</th>\n",
              "      <th>Credit_Limit</th>\n",
              "      <th>Total_Revolving_Bal</th>\n",
              "      <th>Avg_Open_To_Buy</th>\n",
              "      <th>Total_Trans_Amt</th>\n",
              "      <th>Total_Trans_Ct</th>\n",
              "      <th>Avg_Utilization_Ratio</th>\n",
              "    </tr>\n",
              "  </thead>\n",
              "  <tbody>\n",
              "    <tr>\n",
              "      <th>count</th>\n",
              "      <td>1.012700e+04</td>\n",
              "      <td>10127.000000</td>\n",
              "      <td>10127.000000</td>\n",
              "      <td>10127.000000</td>\n",
              "      <td>10127.000000</td>\n",
              "      <td>10127.000000</td>\n",
              "      <td>10127.000000</td>\n",
              "      <td>10127.000000</td>\n",
              "      <td>10127.000000</td>\n",
              "      <td>10127.000000</td>\n",
              "      <td>10127.000000</td>\n",
              "      <td>10127.000000</td>\n",
              "    </tr>\n",
              "    <tr>\n",
              "      <th>mean</th>\n",
              "      <td>7.391776e+08</td>\n",
              "      <td>46.325960</td>\n",
              "      <td>2.346203</td>\n",
              "      <td>35.928409</td>\n",
              "      <td>3.812580</td>\n",
              "      <td>2.341167</td>\n",
              "      <td>8631.953698</td>\n",
              "      <td>1162.814061</td>\n",
              "      <td>7469.139637</td>\n",
              "      <td>4404.086304</td>\n",
              "      <td>64.858695</td>\n",
              "      <td>0.274894</td>\n",
              "    </tr>\n",
              "    <tr>\n",
              "      <th>std</th>\n",
              "      <td>3.690378e+07</td>\n",
              "      <td>8.016814</td>\n",
              "      <td>1.298908</td>\n",
              "      <td>7.986416</td>\n",
              "      <td>1.554408</td>\n",
              "      <td>1.010622</td>\n",
              "      <td>9088.776650</td>\n",
              "      <td>814.987335</td>\n",
              "      <td>9090.685324</td>\n",
              "      <td>3397.129254</td>\n",
              "      <td>23.472570</td>\n",
              "      <td>0.275691</td>\n",
              "    </tr>\n",
              "    <tr>\n",
              "      <th>min</th>\n",
              "      <td>7.080821e+08</td>\n",
              "      <td>26.000000</td>\n",
              "      <td>0.000000</td>\n",
              "      <td>13.000000</td>\n",
              "      <td>1.000000</td>\n",
              "      <td>0.000000</td>\n",
              "      <td>1438.300000</td>\n",
              "      <td>0.000000</td>\n",
              "      <td>3.000000</td>\n",
              "      <td>510.000000</td>\n",
              "      <td>10.000000</td>\n",
              "      <td>0.000000</td>\n",
              "    </tr>\n",
              "    <tr>\n",
              "      <th>25%</th>\n",
              "      <td>7.130368e+08</td>\n",
              "      <td>41.000000</td>\n",
              "      <td>1.000000</td>\n",
              "      <td>31.000000</td>\n",
              "      <td>3.000000</td>\n",
              "      <td>2.000000</td>\n",
              "      <td>2555.000000</td>\n",
              "      <td>359.000000</td>\n",
              "      <td>1324.500000</td>\n",
              "      <td>2155.500000</td>\n",
              "      <td>45.000000</td>\n",
              "      <td>0.023000</td>\n",
              "    </tr>\n",
              "    <tr>\n",
              "      <th>50%</th>\n",
              "      <td>7.179264e+08</td>\n",
              "      <td>46.000000</td>\n",
              "      <td>2.000000</td>\n",
              "      <td>36.000000</td>\n",
              "      <td>4.000000</td>\n",
              "      <td>2.000000</td>\n",
              "      <td>4549.000000</td>\n",
              "      <td>1276.000000</td>\n",
              "      <td>3474.000000</td>\n",
              "      <td>3899.000000</td>\n",
              "      <td>67.000000</td>\n",
              "      <td>0.176000</td>\n",
              "    </tr>\n",
              "    <tr>\n",
              "      <th>75%</th>\n",
              "      <td>7.731435e+08</td>\n",
              "      <td>52.000000</td>\n",
              "      <td>3.000000</td>\n",
              "      <td>40.000000</td>\n",
              "      <td>5.000000</td>\n",
              "      <td>3.000000</td>\n",
              "      <td>11067.500000</td>\n",
              "      <td>1784.000000</td>\n",
              "      <td>9859.000000</td>\n",
              "      <td>4741.000000</td>\n",
              "      <td>81.000000</td>\n",
              "      <td>0.503000</td>\n",
              "    </tr>\n",
              "    <tr>\n",
              "      <th>max</th>\n",
              "      <td>8.283431e+08</td>\n",
              "      <td>73.000000</td>\n",
              "      <td>5.000000</td>\n",
              "      <td>56.000000</td>\n",
              "      <td>6.000000</td>\n",
              "      <td>6.000000</td>\n",
              "      <td>34516.000000</td>\n",
              "      <td>2517.000000</td>\n",
              "      <td>34516.000000</td>\n",
              "      <td>18484.000000</td>\n",
              "      <td>139.000000</td>\n",
              "      <td>0.999000</td>\n",
              "    </tr>\n",
              "  </tbody>\n",
              "</table>\n",
              "</div>\n",
              "      <button class=\"colab-df-convert\" onclick=\"convertToInteractive('df-3b5e1d87-f26b-43c3-b0d0-6dbf7c9db9a0')\"\n",
              "              title=\"Convert this dataframe to an interactive table.\"\n",
              "              style=\"display:none;\">\n",
              "        \n",
              "  <svg xmlns=\"http://www.w3.org/2000/svg\" height=\"24px\"viewBox=\"0 0 24 24\"\n",
              "       width=\"24px\">\n",
              "    <path d=\"M0 0h24v24H0V0z\" fill=\"none\"/>\n",
              "    <path d=\"M18.56 5.44l.94 2.06.94-2.06 2.06-.94-2.06-.94-.94-2.06-.94 2.06-2.06.94zm-11 1L8.5 8.5l.94-2.06 2.06-.94-2.06-.94L8.5 2.5l-.94 2.06-2.06.94zm10 10l.94 2.06.94-2.06 2.06-.94-2.06-.94-.94-2.06-.94 2.06-2.06.94z\"/><path d=\"M17.41 7.96l-1.37-1.37c-.4-.4-.92-.59-1.43-.59-.52 0-1.04.2-1.43.59L10.3 9.45l-7.72 7.72c-.78.78-.78 2.05 0 2.83L4 21.41c.39.39.9.59 1.41.59.51 0 1.02-.2 1.41-.59l7.78-7.78 2.81-2.81c.8-.78.8-2.07 0-2.86zM5.41 20L4 18.59l7.72-7.72 1.47 1.35L5.41 20z\"/>\n",
              "  </svg>\n",
              "      </button>\n",
              "      \n",
              "  <style>\n",
              "    .colab-df-container {\n",
              "      display:flex;\n",
              "      flex-wrap:wrap;\n",
              "      gap: 12px;\n",
              "    }\n",
              "\n",
              "    .colab-df-convert {\n",
              "      background-color: #E8F0FE;\n",
              "      border: none;\n",
              "      border-radius: 50%;\n",
              "      cursor: pointer;\n",
              "      display: none;\n",
              "      fill: #1967D2;\n",
              "      height: 32px;\n",
              "      padding: 0 0 0 0;\n",
              "      width: 32px;\n",
              "    }\n",
              "\n",
              "    .colab-df-convert:hover {\n",
              "      background-color: #E2EBFA;\n",
              "      box-shadow: 0px 1px 2px rgba(60, 64, 67, 0.3), 0px 1px 3px 1px rgba(60, 64, 67, 0.15);\n",
              "      fill: #174EA6;\n",
              "    }\n",
              "\n",
              "    [theme=dark] .colab-df-convert {\n",
              "      background-color: #3B4455;\n",
              "      fill: #D2E3FC;\n",
              "    }\n",
              "\n",
              "    [theme=dark] .colab-df-convert:hover {\n",
              "      background-color: #434B5C;\n",
              "      box-shadow: 0px 1px 3px 1px rgba(0, 0, 0, 0.15);\n",
              "      filter: drop-shadow(0px 1px 2px rgba(0, 0, 0, 0.3));\n",
              "      fill: #FFFFFF;\n",
              "    }\n",
              "  </style>\n",
              "\n",
              "      <script>\n",
              "        const buttonEl =\n",
              "          document.querySelector('#df-3b5e1d87-f26b-43c3-b0d0-6dbf7c9db9a0 button.colab-df-convert');\n",
              "        buttonEl.style.display =\n",
              "          google.colab.kernel.accessAllowed ? 'block' : 'none';\n",
              "\n",
              "        async function convertToInteractive(key) {\n",
              "          const element = document.querySelector('#df-3b5e1d87-f26b-43c3-b0d0-6dbf7c9db9a0');\n",
              "          const dataTable =\n",
              "            await google.colab.kernel.invokeFunction('convertToInteractive',\n",
              "                                                     [key], {});\n",
              "          if (!dataTable) return;\n",
              "\n",
              "          const docLinkHtml = 'Like what you see? Visit the ' +\n",
              "            '<a target=\"_blank\" href=https://colab.research.google.com/notebooks/data_table.ipynb>data table notebook</a>'\n",
              "            + ' to learn more about interactive tables.';\n",
              "          element.innerHTML = '';\n",
              "          dataTable['output_type'] = 'display_data';\n",
              "          await google.colab.output.renderOutput(dataTable, element);\n",
              "          const docLink = document.createElement('div');\n",
              "          docLink.innerHTML = docLinkHtml;\n",
              "          element.appendChild(docLink);\n",
              "        }\n",
              "      </script>\n",
              "    </div>\n",
              "  </div>\n",
              "  "
            ],
            "text/plain": [
              "          CLIENTNUM  Customer_Age  Dependent_count  Months_on_book  \\\n",
              "count  1.012700e+04  10127.000000     10127.000000    10127.000000   \n",
              "mean   7.391776e+08     46.325960         2.346203       35.928409   \n",
              "std    3.690378e+07      8.016814         1.298908        7.986416   \n",
              "min    7.080821e+08     26.000000         0.000000       13.000000   \n",
              "25%    7.130368e+08     41.000000         1.000000       31.000000   \n",
              "50%    7.179264e+08     46.000000         2.000000       36.000000   \n",
              "75%    7.731435e+08     52.000000         3.000000       40.000000   \n",
              "max    8.283431e+08     73.000000         5.000000       56.000000   \n",
              "\n",
              "       Total_Relationship_Count  Months_Inactive_12_mon  Credit_Limit  \\\n",
              "count              10127.000000            10127.000000  10127.000000   \n",
              "mean                   3.812580                2.341167   8631.953698   \n",
              "std                    1.554408                1.010622   9088.776650   \n",
              "min                    1.000000                0.000000   1438.300000   \n",
              "25%                    3.000000                2.000000   2555.000000   \n",
              "50%                    4.000000                2.000000   4549.000000   \n",
              "75%                    5.000000                3.000000  11067.500000   \n",
              "max                    6.000000                6.000000  34516.000000   \n",
              "\n",
              "       Total_Revolving_Bal  Avg_Open_To_Buy  Total_Trans_Amt  Total_Trans_Ct  \\\n",
              "count         10127.000000     10127.000000     10127.000000    10127.000000   \n",
              "mean           1162.814061      7469.139637      4404.086304       64.858695   \n",
              "std             814.987335      9090.685324      3397.129254       23.472570   \n",
              "min               0.000000         3.000000       510.000000       10.000000   \n",
              "25%             359.000000      1324.500000      2155.500000       45.000000   \n",
              "50%            1276.000000      3474.000000      3899.000000       67.000000   \n",
              "75%            1784.000000      9859.000000      4741.000000       81.000000   \n",
              "max            2517.000000     34516.000000     18484.000000      139.000000   \n",
              "\n",
              "       Avg_Utilization_Ratio  \n",
              "count           10127.000000  \n",
              "mean                0.274894  \n",
              "std                 0.275691  \n",
              "min                 0.000000  \n",
              "25%                 0.023000  \n",
              "50%                 0.176000  \n",
              "75%                 0.503000  \n",
              "max                 0.999000  "
            ]
          },
          "execution_count": 35,
          "metadata": {},
          "output_type": "execute_result"
        }
      ],
      "source": [
        "df.describe()"
      ]
    },
    {
      "cell_type": "code",
      "execution_count": null,
      "metadata": {
        "colab": {
          "base_uri": "https://localhost:8080/"
        },
        "id": "MLuqMWrRMQNp",
        "outputId": "2960a4fd-de5e-457b-910a-f6e31d3b9038"
      },
      "outputs": [
        {
          "data": {
            "text/plain": [
              "CLIENTNUM                   0\n",
              "Attrition_Flag              0\n",
              "Customer_Age                0\n",
              "Gender                      0\n",
              "Dependent_count             0\n",
              "Education_Level             0\n",
              "Marital_Status              0\n",
              "Income_Category             0\n",
              "Card_Category               0\n",
              "Months_on_book              0\n",
              "Total_Relationship_Count    0\n",
              "Months_Inactive_12_mon      0\n",
              "Credit_Limit                0\n",
              "Total_Revolving_Bal         0\n",
              "Avg_Open_To_Buy             0\n",
              "Total_Trans_Amt             0\n",
              "Total_Trans_Ct              0\n",
              "Avg_Utilization_Ratio       0\n",
              "dtype: int64"
            ]
          },
          "execution_count": 8,
          "metadata": {},
          "output_type": "execute_result"
        }
      ],
      "source": [
        "df.isnull().sum()"
      ]
    },
    {
      "cell_type": "code",
      "execution_count": null,
      "metadata": {
        "colab": {
          "base_uri": "https://localhost:8080/",
          "height": 113
        },
        "id": "cu89UKS4Q8lO",
        "outputId": "ae72d24c-3ff6-4860-9e8b-2dde0a3953ba"
      },
      "outputs": [
        {
          "data": {
            "text/html": [
              "\n",
              "  <div id=\"df-1e2a8e56-3e54-467e-abd7-37d937c29cb0\">\n",
              "    <div class=\"colab-df-container\">\n",
              "      <div>\n",
              "<style scoped>\n",
              "    .dataframe tbody tr th:only-of-type {\n",
              "        vertical-align: middle;\n",
              "    }\n",
              "\n",
              "    .dataframe tbody tr th {\n",
              "        vertical-align: top;\n",
              "    }\n",
              "\n",
              "    .dataframe thead th {\n",
              "        text-align: right;\n",
              "    }\n",
              "</style>\n",
              "<table border=\"1\" class=\"dataframe\">\n",
              "  <thead>\n",
              "    <tr style=\"text-align: right;\">\n",
              "      <th></th>\n",
              "      <th>CLIENTNUM</th>\n",
              "      <th>Attrition_Flag</th>\n",
              "      <th>Customer_Age</th>\n",
              "      <th>Gender</th>\n",
              "      <th>Dependent_count</th>\n",
              "      <th>Education_Level</th>\n",
              "      <th>Marital_Status</th>\n",
              "      <th>Income_Category</th>\n",
              "      <th>Card_Category</th>\n",
              "      <th>Months_on_book</th>\n",
              "      <th>Total_Relationship_Count</th>\n",
              "      <th>Months_Inactive_12_mon</th>\n",
              "      <th>Credit_Limit</th>\n",
              "      <th>Total_Revolving_Bal</th>\n",
              "      <th>Avg_Open_To_Buy</th>\n",
              "      <th>Total_Trans_Amt</th>\n",
              "      <th>Total_Trans_Ct</th>\n",
              "      <th>Avg_Utilization_Ratio</th>\n",
              "    </tr>\n",
              "  </thead>\n",
              "  <tbody>\n",
              "  </tbody>\n",
              "</table>\n",
              "</div>\n",
              "      <button class=\"colab-df-convert\" onclick=\"convertToInteractive('df-1e2a8e56-3e54-467e-abd7-37d937c29cb0')\"\n",
              "              title=\"Convert this dataframe to an interactive table.\"\n",
              "              style=\"display:none;\">\n",
              "        \n",
              "  <svg xmlns=\"http://www.w3.org/2000/svg\" height=\"24px\"viewBox=\"0 0 24 24\"\n",
              "       width=\"24px\">\n",
              "    <path d=\"M0 0h24v24H0V0z\" fill=\"none\"/>\n",
              "    <path d=\"M18.56 5.44l.94 2.06.94-2.06 2.06-.94-2.06-.94-.94-2.06-.94 2.06-2.06.94zm-11 1L8.5 8.5l.94-2.06 2.06-.94-2.06-.94L8.5 2.5l-.94 2.06-2.06.94zm10 10l.94 2.06.94-2.06 2.06-.94-2.06-.94-.94-2.06-.94 2.06-2.06.94z\"/><path d=\"M17.41 7.96l-1.37-1.37c-.4-.4-.92-.59-1.43-.59-.52 0-1.04.2-1.43.59L10.3 9.45l-7.72 7.72c-.78.78-.78 2.05 0 2.83L4 21.41c.39.39.9.59 1.41.59.51 0 1.02-.2 1.41-.59l7.78-7.78 2.81-2.81c.8-.78.8-2.07 0-2.86zM5.41 20L4 18.59l7.72-7.72 1.47 1.35L5.41 20z\"/>\n",
              "  </svg>\n",
              "      </button>\n",
              "      \n",
              "  <style>\n",
              "    .colab-df-container {\n",
              "      display:flex;\n",
              "      flex-wrap:wrap;\n",
              "      gap: 12px;\n",
              "    }\n",
              "\n",
              "    .colab-df-convert {\n",
              "      background-color: #E8F0FE;\n",
              "      border: none;\n",
              "      border-radius: 50%;\n",
              "      cursor: pointer;\n",
              "      display: none;\n",
              "      fill: #1967D2;\n",
              "      height: 32px;\n",
              "      padding: 0 0 0 0;\n",
              "      width: 32px;\n",
              "    }\n",
              "\n",
              "    .colab-df-convert:hover {\n",
              "      background-color: #E2EBFA;\n",
              "      box-shadow: 0px 1px 2px rgba(60, 64, 67, 0.3), 0px 1px 3px 1px rgba(60, 64, 67, 0.15);\n",
              "      fill: #174EA6;\n",
              "    }\n",
              "\n",
              "    [theme=dark] .colab-df-convert {\n",
              "      background-color: #3B4455;\n",
              "      fill: #D2E3FC;\n",
              "    }\n",
              "\n",
              "    [theme=dark] .colab-df-convert:hover {\n",
              "      background-color: #434B5C;\n",
              "      box-shadow: 0px 1px 3px 1px rgba(0, 0, 0, 0.15);\n",
              "      filter: drop-shadow(0px 1px 2px rgba(0, 0, 0, 0.3));\n",
              "      fill: #FFFFFF;\n",
              "    }\n",
              "  </style>\n",
              "\n",
              "      <script>\n",
              "        const buttonEl =\n",
              "          document.querySelector('#df-1e2a8e56-3e54-467e-abd7-37d937c29cb0 button.colab-df-convert');\n",
              "        buttonEl.style.display =\n",
              "          google.colab.kernel.accessAllowed ? 'block' : 'none';\n",
              "\n",
              "        async function convertToInteractive(key) {\n",
              "          const element = document.querySelector('#df-1e2a8e56-3e54-467e-abd7-37d937c29cb0');\n",
              "          const dataTable =\n",
              "            await google.colab.kernel.invokeFunction('convertToInteractive',\n",
              "                                                     [key], {});\n",
              "          if (!dataTable) return;\n",
              "\n",
              "          const docLinkHtml = 'Like what you see? Visit the ' +\n",
              "            '<a target=\"_blank\" href=https://colab.research.google.com/notebooks/data_table.ipynb>data table notebook</a>'\n",
              "            + ' to learn more about interactive tables.';\n",
              "          element.innerHTML = '';\n",
              "          dataTable['output_type'] = 'display_data';\n",
              "          await google.colab.output.renderOutput(dataTable, element);\n",
              "          const docLink = document.createElement('div');\n",
              "          docLink.innerHTML = docLinkHtml;\n",
              "          element.appendChild(docLink);\n",
              "        }\n",
              "      </script>\n",
              "    </div>\n",
              "  </div>\n",
              "  "
            ],
            "text/plain": [
              "Empty DataFrame\n",
              "Columns: [CLIENTNUM, Attrition_Flag, Customer_Age, Gender, Dependent_count, Education_Level, Marital_Status, Income_Category, Card_Category, Months_on_book, Total_Relationship_Count, Months_Inactive_12_mon, Credit_Limit, Total_Revolving_Bal, Avg_Open_To_Buy, Total_Trans_Amt, Total_Trans_Ct, Avg_Utilization_Ratio]\n",
              "Index: []"
            ]
          },
          "execution_count": 22,
          "metadata": {},
          "output_type": "execute_result"
        }
      ],
      "source": [
        "df[df['CLIENTNUM'].duplicated()]"
      ]
    },
    {
      "cell_type": "code",
      "execution_count": null,
      "metadata": {
        "colab": {
          "base_uri": "https://localhost:8080/"
        },
        "id": "P3iURrflVsOu",
        "outputId": "cda52038-651c-4f2c-f41f-e1318aa802b3"
      },
      "outputs": [
        {
          "name": "stdout",
          "output_type": "stream",
          "text": [
            "<class 'pandas.core.frame.DataFrame'>\n",
            "RangeIndex: 10127 entries, 0 to 10126\n",
            "Data columns (total 18 columns):\n",
            " #   Column                    Non-Null Count  Dtype  \n",
            "---  ------                    --------------  -----  \n",
            " 0   CLIENTNUM                 10127 non-null  int64  \n",
            " 1   Attrition_Flag            10127 non-null  object \n",
            " 2   Customer_Age              10127 non-null  int64  \n",
            " 3   Gender                    10127 non-null  object \n",
            " 4   Dependent_count           10127 non-null  int64  \n",
            " 5   Education_Level           10127 non-null  object \n",
            " 6   Marital_Status            10127 non-null  object \n",
            " 7   Income_Category           10127 non-null  object \n",
            " 8   Card_Category             10127 non-null  object \n",
            " 9   Months_on_book            10127 non-null  int64  \n",
            " 10  Total_Relationship_Count  10127 non-null  int64  \n",
            " 11  Months_Inactive_12_mon    10127 non-null  int64  \n",
            " 12  Credit_Limit              10127 non-null  float64\n",
            " 13  Total_Revolving_Bal       10127 non-null  int64  \n",
            " 14  Avg_Open_To_Buy           10127 non-null  float64\n",
            " 15  Total_Trans_Amt           10127 non-null  int64  \n",
            " 16  Total_Trans_Ct            10127 non-null  int64  \n",
            " 17  Avg_Utilization_Ratio     10127 non-null  float64\n",
            "dtypes: float64(3), int64(9), object(6)\n",
            "memory usage: 1.4+ MB\n"
          ]
        }
      ],
      "source": [
        "df.info()"
      ]
    },
    {
      "cell_type": "code",
      "execution_count": null,
      "metadata": {
        "colab": {
          "base_uri": "https://localhost:8080/"
        },
        "id": "0nogZwWqtqAI",
        "outputId": "6dcb7a6e-51cf-4028-8f5e-48c640374f14"
      },
      "outputs": [
        {
          "data": {
            "text/plain": [
              "F    5358\n",
              "M    4769\n",
              "Name: Gender, dtype: int64"
            ]
          },
          "execution_count": 4,
          "metadata": {},
          "output_type": "execute_result"
        }
      ],
      "source": [
        "df['Gender'].value_counts()"
      ]
    },
    {
      "cell_type": "markdown",
      "metadata": {
        "id": "y8sZivKqSGYR"
      },
      "source": [
        "### Exploration"
      ]
    },
    {
      "cell_type": "markdown",
      "metadata": {
        "id": "YwJ5oTCaN5kl"
      },
      "source": [
        "###1) Count total num of Attrited and Exsiting customers"
      ]
    },
    {
      "cell_type": "code",
      "execution_count": null,
      "metadata": {
        "colab": {
          "base_uri": "https://localhost:8080/"
        },
        "id": "X-4Gc-sIMYrv",
        "outputId": "7d2e8f71-009b-4a40-a235-f2c7d02b0d43"
      },
      "outputs": [
        {
          "data": {
            "text/plain": [
              "Existing Customer    8500\n",
              "Attrited Customer    1627\n",
              "Name: Attrition_Flag, dtype: int64"
            ]
          },
          "execution_count": 24,
          "metadata": {},
          "output_type": "execute_result"
        }
      ],
      "source": [
        "df['Attrition_Flag'].value_counts()"
      ]
    },
    {
      "cell_type": "code",
      "execution_count": null,
      "metadata": {
        "colab": {
          "base_uri": "https://localhost:8080/",
          "height": 285
        },
        "id": "xmGWDrV_lsRr",
        "outputId": "09ee56f9-0af0-43c4-8496-a6dc73bcf2e3"
      },
      "outputs": [
        {
          "data": {
            "image/png": "[encoded data removed]",
            "text/plain": [
              "<Figure size 432x288 with 1 Axes>"
            ]
          },
          "metadata": {},
          "output_type": "display_data"
        }
      ],
      "source": [
        "sns.countplot(x='Attrition_Flag', hue='Attrition_Flag',data= df);"
      ]
    },
    {
      "cell_type": "code",
      "execution_count": null,
      "metadata": {
        "colab": {
          "base_uri": "https://localhost:8080/"
        },
        "id": "gaio03XAg41c",
        "outputId": "1007382c-5845-4bcd-cb0f-f82ce9f1aec3"
      },
      "outputs": [
        {
          "name": "stdout",
          "output_type": "stream",
          "text": [
            "85.0\n"
          ]
        }
      ],
      "source": [
        "def is_what_percent_of(num_a, num_b):\n",
        "    return (num_a / num_b) * 100\n",
        "print(is_what_percent_of(8500, 10000)) "
      ]
    },
    {
      "cell_type": "code",
      "execution_count": null,
      "metadata": {
        "colab": {
          "base_uri": "https://localhost:8080/"
        },
        "id": "9tAK1cO9ms-Q",
        "outputId": "2f42ba85-f9b9-41b1-c023-d1becae83f1b"
      },
      "outputs": [
        {
          "name": "stdout",
          "output_type": "stream",
          "text": [
            "16.27\n"
          ]
        }
      ],
      "source": [
        "print(is_what_percent_of(1627, 10000)) "
      ]
    },
    {
      "cell_type": "markdown",
      "metadata": {
        "id": "F4BSSnvYUDyH"
      },
      "source": [
        "###2) Attrition Rate"
      ]
    },
    {
      "cell_type": "code",
      "execution_count": null,
      "metadata": {
        "colab": {
          "base_uri": "https://localhost:8080/"
        },
        "id": "UlLbp838UDDD",
        "outputId": "88b65a11-f173-410b-e604-487d00e943fb"
      },
      "outputs": [
        {
          "data": {
            "text/plain": [
              "Existing Customer    83.934038\n",
              "Attrited Customer    16.065962\n",
              "Name: Attrition_Flag, dtype: float64"
            ]
          },
          "execution_count": 28,
          "metadata": {},
          "output_type": "execute_result"
        }
      ],
      "source": [
        "df['Attrition_Flag'].value_counts() / len(df) * 100"
      ]
    },
    {
      "cell_type": "code",
      "execution_count": null,
      "metadata": {
        "colab": {
          "base_uri": "https://localhost:8080/",
          "height": 264
        },
        "id": "Iei3A5bmDEXb",
        "outputId": "91e24488-193b-47f5-9101-9b0ba469ace4"
      },
      "outputs": [
        {
          "data": {
            "image/png": "[encoded data removed]",
            "text/plain": [
              "<Figure size 432x288 with 1 Axes>"
            ]
          },
          "metadata": {},
          "output_type": "display_data"
        }
      ],
      "source": [
        "x = [83.93,16.0]\n",
        "labels = ['Retained', 'Churned']\n",
        "plt.pie(x, labels=labels, autopct='%1.f%%', shadow= True, startangle=90)\n",
        "plt.title(\"churn Rate\")\n",
        "plt.show()"
      ]
    },
    {
      "cell_type": "markdown",
      "metadata": {
        "id": "eutaVkUhSaFS"
      },
      "source": [
        "### 3)Which age groups of people connect to bank?"
      ]
    },
    {
      "cell_type": "code",
      "execution_count": null,
      "metadata": {
        "colab": {
          "base_uri": "https://localhost:8080/",
          "height": 338
        },
        "id": "UkoO3ITq8yPa",
        "outputId": "eec21fdd-0acb-45d3-d405-d9cbf9252b0c"
      },
      "outputs": [
        {
          "data": {
            "image/png": "[encoded data removed]",
            "text/plain": [
              "<Figure size 1080x360 with 1 Axes>"
            ]
          },
          "metadata": {},
          "output_type": "display_data"
        }
      ],
      "source": [
        "plt.figure(figsize=(15,5))\n",
        "plt.hist(df['Customer_Age'], bins=20)\n",
        "plt.title('age groups')\n",
        "plt.show()"
      ]
    },
    {
      "cell_type": "markdown",
      "metadata": {
        "id": "7opxtFkAVpbm"
      },
      "source": [
        "###4)\tAt which income category’s customer mostly have credit card facility."
      ]
    },
    {
      "cell_type": "code",
      "execution_count": null,
      "metadata": {
        "colab": {
          "base_uri": "https://localhost:8080/"
        },
        "id": "2lc5tU0WV-Om",
        "outputId": "9ef8b166-4d52-4f57-94de-4b6602f388d5"
      },
      "outputs": [
        {
          "data": {
            "text/plain": [
              "Less than $40K    3561\n",
              "$40K - $60K       1790\n",
              "$80K - $120K      1535\n",
              "$60K - $80K       1402\n",
              "Unknown           1112\n",
              "$120K +            727\n",
              "Name: Income_Category, dtype: int64"
            ]
          },
          "execution_count": 30,
          "metadata": {},
          "output_type": "execute_result"
        }
      ],
      "source": [
        "df['Income_Category'].value_counts()"
      ]
    },
    {
      "cell_type": "code",
      "execution_count": null,
      "metadata": {
        "colab": {
          "base_uri": "https://localhost:8080/",
          "height": 285
        },
        "id": "NKLAsG2BliXs",
        "outputId": "385008a3-0167-4b09-a590-e48bd0e8fe16"
      },
      "outputs": [
        {
          "data": {
            "image/png": "[encoded data removed]",
            "text/plain": [
              "<Figure size 432x288 with 1 Axes>"
            ]
          },
          "metadata": {},
          "output_type": "display_data"
        }
      ],
      "source": [
        "sns.countplot(data= df, y='Income_Category');"
      ]
    },
    {
      "cell_type": "markdown",
      "metadata": {
        "id": "LubW8nasudhK"
      },
      "source": [
        "###5)which card category customers mostly have?"
      ]
    },
    {
      "cell_type": "code",
      "execution_count": null,
      "metadata": {
        "colab": {
          "base_uri": "https://localhost:8080/"
        },
        "id": "C-W9qVZCBFUi",
        "outputId": "c240adaa-3315-43a2-e9a9-21597494637f"
      },
      "outputs": [
        {
          "data": {
            "text/plain": [
              "Blue        9436\n",
              "Silver       555\n",
              "Gold         116\n",
              "Platinum      20\n",
              "Name: Card_Category, dtype: int64"
            ]
          },
          "execution_count": 26,
          "metadata": {},
          "output_type": "execute_result"
        }
      ],
      "source": [
        "df['Card_Category'].value_counts()"
      ]
    },
    {
      "cell_type": "code",
      "execution_count": null,
      "metadata": {
        "colab": {
          "base_uri": "https://localhost:8080/",
          "height": 285
        },
        "id": "3GNZ3BxNrGpp",
        "outputId": "63d97c52-6a1e-4a21-831e-bf16deac3d1b"
      },
      "outputs": [
        {
          "data": {
            "image/png": "[encoded data removed]",
            "text/plain": [
              "<Figure size 432x288 with 1 Axes>"
            ]
          },
          "metadata": {},
          "output_type": "display_data"
        }
      ],
      "source": [
        "sns.countplot(data= df, y='Education_Level');"
      ]
    },
    {
      "cell_type": "code",
      "execution_count": null,
      "metadata": {
        "colab": {
          "base_uri": "https://localhost:8080/",
          "height": 285
        },
        "id": "P9H3wK7jrW7m",
        "outputId": "87ea85c3-fa89-409b-dfea-fe798bc77ec1"
      },
      "outputs": [
        {
          "data": {
            "image/png": "[encoded data removed]",
            "text/plain": [
              "<Figure size 432x288 with 1 Axes>"
            ]
          },
          "metadata": {},
          "output_type": "display_data"
        }
      ],
      "source": [
        "sns.countplot(data= df, x='Marital_Status');"
      ]
    },
    {
      "cell_type": "markdown",
      "metadata": {
        "id": "Cds5CH0LmNHj"
      },
      "source": [
        "###Split data into two part i.e exsiting and churned customers."
      ]
    },
    {
      "cell_type": "code",
      "execution_count": null,
      "metadata": {
        "colab": {
          "base_uri": "https://localhost:8080/",
          "height": 357
        },
        "id": "bYwp7YBamX-N",
        "outputId": "15db70e0-eaa4-466d-adb0-384c507085e6"
      },
      "outputs": [
        {
          "data": {
            "text/html": [
              "\n",
              "  <div id=\"df-e07f0351-116e-4721-bdd9-0ec187c4f962\">\n",
              "    <div class=\"colab-df-container\">\n",
              "      <div>\n",
              "<style scoped>\n",
              "    .dataframe tbody tr th:only-of-type {\n",
              "        vertical-align: middle;\n",
              "    }\n",
              "\n",
              "    .dataframe tbody tr th {\n",
              "        vertical-align: top;\n",
              "    }\n",
              "\n",
              "    .dataframe thead th {\n",
              "        text-align: right;\n",
              "    }\n",
              "</style>\n",
              "<table border=\"1\" class=\"dataframe\">\n",
              "  <thead>\n",
              "    <tr style=\"text-align: right;\">\n",
              "      <th></th>\n",
              "      <th>CLIENTNUM</th>\n",
              "      <th>Attrition_Flag</th>\n",
              "      <th>Customer_Age</th>\n",
              "      <th>Gender</th>\n",
              "      <th>Dependent_count</th>\n",
              "      <th>Education_Level</th>\n",
              "      <th>Marital_Status</th>\n",
              "      <th>Income_Category</th>\n",
              "      <th>Card_Category</th>\n",
              "      <th>Months_on_book</th>\n",
              "      <th>Total_Relationship_Count</th>\n",
              "      <th>Months_Inactive_12_mon</th>\n",
              "      <th>Credit_Limit</th>\n",
              "      <th>Total_Revolving_Bal</th>\n",
              "      <th>Avg_Open_To_Buy</th>\n",
              "      <th>Total_Trans_Amt</th>\n",
              "      <th>Total_Trans_Ct</th>\n",
              "      <th>Avg_Utilization_Ratio</th>\n",
              "    </tr>\n",
              "  </thead>\n",
              "  <tbody>\n",
              "    <tr>\n",
              "      <th>21</th>\n",
              "      <td>708508758</td>\n",
              "      <td>Attrited Customer</td>\n",
              "      <td>62</td>\n",
              "      <td>F</td>\n",
              "      <td>0</td>\n",
              "      <td>Graduate</td>\n",
              "      <td>Married</td>\n",
              "      <td>Less than $40K</td>\n",
              "      <td>Blue</td>\n",
              "      <td>49</td>\n",
              "      <td>2</td>\n",
              "      <td>3</td>\n",
              "      <td>1438.3</td>\n",
              "      <td>0</td>\n",
              "      <td>1438.3</td>\n",
              "      <td>692</td>\n",
              "      <td>16</td>\n",
              "      <td>0.000</td>\n",
              "    </tr>\n",
              "    <tr>\n",
              "      <th>39</th>\n",
              "      <td>708300483</td>\n",
              "      <td>Attrited Customer</td>\n",
              "      <td>66</td>\n",
              "      <td>F</td>\n",
              "      <td>0</td>\n",
              "      <td>Doctorate</td>\n",
              "      <td>Married</td>\n",
              "      <td>Unknown</td>\n",
              "      <td>Blue</td>\n",
              "      <td>56</td>\n",
              "      <td>5</td>\n",
              "      <td>4</td>\n",
              "      <td>7882.0</td>\n",
              "      <td>605</td>\n",
              "      <td>7277.0</td>\n",
              "      <td>704</td>\n",
              "      <td>16</td>\n",
              "      <td>0.077</td>\n",
              "    </tr>\n",
              "    <tr>\n",
              "      <th>51</th>\n",
              "      <td>779471883</td>\n",
              "      <td>Attrited Customer</td>\n",
              "      <td>54</td>\n",
              "      <td>F</td>\n",
              "      <td>1</td>\n",
              "      <td>Graduate</td>\n",
              "      <td>Married</td>\n",
              "      <td>Less than $40K</td>\n",
              "      <td>Blue</td>\n",
              "      <td>40</td>\n",
              "      <td>2</td>\n",
              "      <td>3</td>\n",
              "      <td>1438.3</td>\n",
              "      <td>808</td>\n",
              "      <td>630.3</td>\n",
              "      <td>705</td>\n",
              "      <td>19</td>\n",
              "      <td>0.562</td>\n",
              "    </tr>\n",
              "    <tr>\n",
              "      <th>54</th>\n",
              "      <td>714374133</td>\n",
              "      <td>Attrited Customer</td>\n",
              "      <td>56</td>\n",
              "      <td>M</td>\n",
              "      <td>2</td>\n",
              "      <td>Graduate</td>\n",
              "      <td>Married</td>\n",
              "      <td>$120K +</td>\n",
              "      <td>Blue</td>\n",
              "      <td>36</td>\n",
              "      <td>1</td>\n",
              "      <td>3</td>\n",
              "      <td>15769.0</td>\n",
              "      <td>0</td>\n",
              "      <td>15769.0</td>\n",
              "      <td>602</td>\n",
              "      <td>15</td>\n",
              "      <td>0.000</td>\n",
              "    </tr>\n",
              "    <tr>\n",
              "      <th>61</th>\n",
              "      <td>712030833</td>\n",
              "      <td>Attrited Customer</td>\n",
              "      <td>48</td>\n",
              "      <td>M</td>\n",
              "      <td>2</td>\n",
              "      <td>Graduate</td>\n",
              "      <td>Married</td>\n",
              "      <td>$60K - $80K</td>\n",
              "      <td>Silver</td>\n",
              "      <td>35</td>\n",
              "      <td>2</td>\n",
              "      <td>4</td>\n",
              "      <td>34516.0</td>\n",
              "      <td>0</td>\n",
              "      <td>34516.0</td>\n",
              "      <td>691</td>\n",
              "      <td>15</td>\n",
              "      <td>0.000</td>\n",
              "    </tr>\n",
              "  </tbody>\n",
              "</table>\n",
              "</div>\n",
              "      <button class=\"colab-df-convert\" onclick=\"convertToInteractive('df-e07f0351-116e-4721-bdd9-0ec187c4f962')\"\n",
              "              title=\"Convert this dataframe to an interactive table.\"\n",
              "              style=\"display:none;\">\n",
              "        \n",
              "  <svg xmlns=\"http://www.w3.org/2000/svg\" height=\"24px\"viewBox=\"0 0 24 24\"\n",
              "       width=\"24px\">\n",
              "    <path d=\"M0 0h24v24H0V0z\" fill=\"none\"/>\n",
              "    <path d=\"M18.56 5.44l.94 2.06.94-2.06 2.06-.94-2.06-.94-.94-2.06-.94 2.06-2.06.94zm-11 1L8.5 8.5l.94-2.06 2.06-.94-2.06-.94L8.5 2.5l-.94 2.06-2.06.94zm10 10l.94 2.06.94-2.06 2.06-.94-2.06-.94-.94-2.06-.94 2.06-2.06.94z\"/><path d=\"M17.41 7.96l-1.37-1.37c-.4-.4-.92-.59-1.43-.59-.52 0-1.04.2-1.43.59L10.3 9.45l-7.72 7.72c-.78.78-.78 2.05 0 2.83L4 21.41c.39.39.9.59 1.41.59.51 0 1.02-.2 1.41-.59l7.78-7.78 2.81-2.81c.8-.78.8-2.07 0-2.86zM5.41 20L4 18.59l7.72-7.72 1.47 1.35L5.41 20z\"/>\n",
              "  </svg>\n",
              "      </button>\n",
              "      \n",
              "  <style>\n",
              "    .colab-df-container {\n",
              "      display:flex;\n",
              "      flex-wrap:wrap;\n",
              "      gap: 12px;\n",
              "    }\n",
              "\n",
              "    .colab-df-convert {\n",
              "      background-color: #E8F0FE;\n",
              "      border: none;\n",
              "      border-radius: 50%;\n",
              "      cursor: pointer;\n",
              "      display: none;\n",
              "      fill: #1967D2;\n",
              "      height: 32px;\n",
              "      padding: 0 0 0 0;\n",
              "      width: 32px;\n",
              "    }\n",
              "\n",
              "    .colab-df-convert:hover {\n",
              "      background-color: #E2EBFA;\n",
              "      box-shadow: 0px 1px 2px rgba(60, 64, 67, 0.3), 0px 1px 3px 1px rgba(60, 64, 67, 0.15);\n",
              "      fill: #174EA6;\n",
              "    }\n",
              "\n",
              "    [theme=dark] .colab-df-convert {\n",
              "      background-color: #3B4455;\n",
              "      fill: #D2E3FC;\n",
              "    }\n",
              "\n",
              "    [theme=dark] .colab-df-convert:hover {\n",
              "      background-color: #434B5C;\n",
              "      box-shadow: 0px 1px 3px 1px rgba(0, 0, 0, 0.15);\n",
              "      filter: drop-shadow(0px 1px 2px rgba(0, 0, 0, 0.3));\n",
              "      fill: #FFFFFF;\n",
              "    }\n",
              "  </style>\n",
              "\n",
              "      <script>\n",
              "        const buttonEl =\n",
              "          document.querySelector('#df-e07f0351-116e-4721-bdd9-0ec187c4f962 button.colab-df-convert');\n",
              "        buttonEl.style.display =\n",
              "          google.colab.kernel.accessAllowed ? 'block' : 'none';\n",
              "\n",
              "        async function convertToInteractive(key) {\n",
              "          const element = document.querySelector('#df-e07f0351-116e-4721-bdd9-0ec187c4f962');\n",
              "          const dataTable =\n",
              "            await google.colab.kernel.invokeFunction('convertToInteractive',\n",
              "                                                     [key], {});\n",
              "          if (!dataTable) return;\n",
              "\n",
              "          const docLinkHtml = 'Like what you see? Visit the ' +\n",
              "            '<a target=\"_blank\" href=https://colab.research.google.com/notebooks/data_table.ipynb>data table notebook</a>'\n",
              "            + ' to learn more about interactive tables.';\n",
              "          element.innerHTML = '';\n",
              "          dataTable['output_type'] = 'display_data';\n",
              "          await google.colab.output.renderOutput(dataTable, element);\n",
              "          const docLink = document.createElement('div');\n",
              "          docLink.innerHTML = docLinkHtml;\n",
              "          element.appendChild(docLink);\n",
              "        }\n",
              "      </script>\n",
              "    </div>\n",
              "  </div>\n",
              "  "
            ],
            "text/plain": [
              "    CLIENTNUM     Attrition_Flag  Customer_Age Gender  Dependent_count  \\\n",
              "21  708508758  Attrited Customer            62      F                0   \n",
              "39  708300483  Attrited Customer            66      F                0   \n",
              "51  779471883  Attrited Customer            54      F                1   \n",
              "54  714374133  Attrited Customer            56      M                2   \n",
              "61  712030833  Attrited Customer            48      M                2   \n",
              "\n",
              "   Education_Level Marital_Status Income_Category Card_Category  \\\n",
              "21        Graduate        Married  Less than $40K          Blue   \n",
              "39       Doctorate        Married         Unknown          Blue   \n",
              "51        Graduate        Married  Less than $40K          Blue   \n",
              "54        Graduate        Married         $120K +          Blue   \n",
              "61        Graduate        Married     $60K - $80K        Silver   \n",
              "\n",
              "    Months_on_book  Total_Relationship_Count  Months_Inactive_12_mon  \\\n",
              "21              49                         2                       3   \n",
              "39              56                         5                       4   \n",
              "51              40                         2                       3   \n",
              "54              36                         1                       3   \n",
              "61              35                         2                       4   \n",
              "\n",
              "    Credit_Limit  Total_Revolving_Bal  Avg_Open_To_Buy  Total_Trans_Amt  \\\n",
              "21        1438.3                    0           1438.3              692   \n",
              "39        7882.0                  605           7277.0              704   \n",
              "51        1438.3                  808            630.3              705   \n",
              "54       15769.0                    0          15769.0              602   \n",
              "61       34516.0                    0          34516.0              691   \n",
              "\n",
              "    Total_Trans_Ct  Avg_Utilization_Ratio  \n",
              "21              16                  0.000  \n",
              "39              16                  0.077  \n",
              "51              19                  0.562  \n",
              "54              15                  0.000  \n",
              "61              15                  0.000  "
            ]
          },
          "execution_count": 7,
          "metadata": {},
          "output_type": "execute_result"
        }
      ],
      "source": [
        "df_churned =  df[df['Attrition_Flag'] == 'Attrited Customer']\n",
        "df_churned.head()"
      ]
    },
    {
      "cell_type": "code",
      "execution_count": null,
      "metadata": {
        "id": "hM4DpOdVmvLl"
      },
      "outputs": [],
      "source": [
        "df_exsiting =  df[df['Attrition_Flag'] != 'Attrited Customer']"
      ]
    },
    {
      "cell_type": "markdown",
      "metadata": {
        "id": "XJUVoJl0ZBzm"
      },
      "source": [
        "###6)\tHow much attrition occur gender wise."
      ]
    },
    {
      "cell_type": "code",
      "execution_count": null,
      "metadata": {
        "colab": {
          "base_uri": "https://localhost:8080/"
        },
        "id": "HinDq5rdZHZa",
        "outputId": "5c2afe59-be39-4dd0-fd95-329485c6d6b3"
      },
      "outputs": [
        {
          "name": "stdout",
          "output_type": "stream",
          "text": [
            "Attrition_Flag     Gender\n",
            "Attrited Customer  F          930\n",
            "                   M          697\n",
            "Existing Customer  F         4428\n",
            "                   M         4072\n",
            "Name: CLIENTNUM, dtype: int64\n"
          ]
        }
      ],
      "source": [
        "df2 = df.groupby(['Attrition_Flag','Gender'])['CLIENTNUM'].count()\n",
        "print(df2)"
      ]
    },
    {
      "cell_type": "code",
      "execution_count": null,
      "metadata": {
        "colab": {
          "base_uri": "https://localhost:8080/"
        },
        "id": "d2f1k6bp2WOG",
        "outputId": "382bbcb8-e50f-4f34-ae1a-43e94a54af47"
      },
      "outputs": [
        {
          "data": {
            "text/plain": [
              "F    930\n",
              "M    697\n",
              "Name: Gender, dtype: int64"
            ]
          },
          "execution_count": 52,
          "metadata": {},
          "output_type": "execute_result"
        }
      ],
      "source": [
        "df_churned['Gender'].value_counts()"
      ]
    },
    {
      "cell_type": "code",
      "execution_count": null,
      "metadata": {
        "colab": {
          "base_uri": "https://localhost:8080/",
          "height": 285
        },
        "id": "VSZmNmCWnAvb",
        "outputId": "e770926d-ebcb-40a1-d253-70ed7ccdfef3"
      },
      "outputs": [
        {
          "data": {
            "image/png": "[encoded data removed]",
            "text/plain": [
              "<Figure size 432x288 with 1 Axes>"
            ]
          },
          "metadata": {},
          "output_type": "display_data"
        }
      ],
      "source": [
        "sns.countplot(x= 'Gender', data= df_churned);"
      ]
    },
    {
      "cell_type": "markdown",
      "metadata": {
        "id": "dyboDhmdtq3G"
      },
      "source": [
        "###Total churn on each income level?"
      ]
    },
    {
      "cell_type": "code",
      "execution_count": null,
      "metadata": {
        "colab": {
          "base_uri": "https://localhost:8080/",
          "height": 285
        },
        "id": "sSDNaDMwteKW",
        "outputId": "79c3415d-c3df-4777-bcc2-7c64f15261c8"
      },
      "outputs": [
        {
          "data": {
            "image/png": "[encoded data removed]",
            "text/plain": [
              "<Figure size 432x288 with 1 Axes>"
            ]
          },
          "metadata": {},
          "output_type": "display_data"
        }
      ],
      "source": [
        "sns.countplot(data = df_churned, y = 'Income_Category');"
      ]
    },
    {
      "cell_type": "markdown",
      "metadata": {
        "id": "vwgQnSefvAI5"
      },
      "source": [
        "### split churned data into female because of analyzing demographics?"
      ]
    },
    {
      "cell_type": "code",
      "execution_count": null,
      "metadata": {
        "colab": {
          "base_uri": "https://localhost:8080/",
          "height": 357
        },
        "id": "lA9xm2hSps42",
        "outputId": "9b296cab-2ed8-4c01-d626-d0739ee15933"
      },
      "outputs": [
        {
          "data": {
            "text/html": [
              "\n",
              "  <div id=\"df-273ec9f7-b222-49c4-98ae-332e1c42dfc8\">\n",
              "    <div class=\"colab-df-container\">\n",
              "      <div>\n",
              "<style scoped>\n",
              "    .dataframe tbody tr th:only-of-type {\n",
              "        vertical-align: middle;\n",
              "    }\n",
              "\n",
              "    .dataframe tbody tr th {\n",
              "        vertical-align: top;\n",
              "    }\n",
              "\n",
              "    .dataframe thead th {\n",
              "        text-align: right;\n",
              "    }\n",
              "</style>\n",
              "<table border=\"1\" class=\"dataframe\">\n",
              "  <thead>\n",
              "    <tr style=\"text-align: right;\">\n",
              "      <th></th>\n",
              "      <th>CLIENTNUM</th>\n",
              "      <th>Attrition_Flag</th>\n",
              "      <th>Customer_Age</th>\n",
              "      <th>Gender</th>\n",
              "      <th>Dependent_count</th>\n",
              "      <th>Education_Level</th>\n",
              "      <th>Marital_Status</th>\n",
              "      <th>Income_Category</th>\n",
              "      <th>Card_Category</th>\n",
              "      <th>Months_on_book</th>\n",
              "      <th>Total_Relationship_Count</th>\n",
              "      <th>Months_Inactive_12_mon</th>\n",
              "      <th>Credit_Limit</th>\n",
              "      <th>Total_Revolving_Bal</th>\n",
              "      <th>Avg_Open_To_Buy</th>\n",
              "      <th>Total_Trans_Amt</th>\n",
              "      <th>Total_Trans_Ct</th>\n",
              "      <th>Avg_Utilization_Ratio</th>\n",
              "    </tr>\n",
              "  </thead>\n",
              "  <tbody>\n",
              "    <tr>\n",
              "      <th>21</th>\n",
              "      <td>708508758</td>\n",
              "      <td>Attrited Customer</td>\n",
              "      <td>62</td>\n",
              "      <td>F</td>\n",
              "      <td>0</td>\n",
              "      <td>Graduate</td>\n",
              "      <td>Married</td>\n",
              "      <td>Less than $40K</td>\n",
              "      <td>Blue</td>\n",
              "      <td>49</td>\n",
              "      <td>2</td>\n",
              "      <td>3</td>\n",
              "      <td>1438.3</td>\n",
              "      <td>0</td>\n",
              "      <td>1438.3</td>\n",
              "      <td>692</td>\n",
              "      <td>16</td>\n",
              "      <td>0.000</td>\n",
              "    </tr>\n",
              "    <tr>\n",
              "      <th>39</th>\n",
              "      <td>708300483</td>\n",
              "      <td>Attrited Customer</td>\n",
              "      <td>66</td>\n",
              "      <td>F</td>\n",
              "      <td>0</td>\n",
              "      <td>Doctorate</td>\n",
              "      <td>Married</td>\n",
              "      <td>Unknown</td>\n",
              "      <td>Blue</td>\n",
              "      <td>56</td>\n",
              "      <td>5</td>\n",
              "      <td>4</td>\n",
              "      <td>7882.0</td>\n",
              "      <td>605</td>\n",
              "      <td>7277.0</td>\n",
              "      <td>704</td>\n",
              "      <td>16</td>\n",
              "      <td>0.077</td>\n",
              "    </tr>\n",
              "    <tr>\n",
              "      <th>51</th>\n",
              "      <td>779471883</td>\n",
              "      <td>Attrited Customer</td>\n",
              "      <td>54</td>\n",
              "      <td>F</td>\n",
              "      <td>1</td>\n",
              "      <td>Graduate</td>\n",
              "      <td>Married</td>\n",
              "      <td>Less than $40K</td>\n",
              "      <td>Blue</td>\n",
              "      <td>40</td>\n",
              "      <td>2</td>\n",
              "      <td>3</td>\n",
              "      <td>1438.3</td>\n",
              "      <td>808</td>\n",
              "      <td>630.3</td>\n",
              "      <td>705</td>\n",
              "      <td>19</td>\n",
              "      <td>0.562</td>\n",
              "    </tr>\n",
              "    <tr>\n",
              "      <th>82</th>\n",
              "      <td>711013983</td>\n",
              "      <td>Attrited Customer</td>\n",
              "      <td>55</td>\n",
              "      <td>F</td>\n",
              "      <td>4</td>\n",
              "      <td>Unknown</td>\n",
              "      <td>Married</td>\n",
              "      <td>$40K - $60K</td>\n",
              "      <td>Blue</td>\n",
              "      <td>45</td>\n",
              "      <td>2</td>\n",
              "      <td>4</td>\n",
              "      <td>2158.0</td>\n",
              "      <td>0</td>\n",
              "      <td>2158.0</td>\n",
              "      <td>615</td>\n",
              "      <td>12</td>\n",
              "      <td>0.000</td>\n",
              "    </tr>\n",
              "    <tr>\n",
              "      <th>140</th>\n",
              "      <td>789322833</td>\n",
              "      <td>Attrited Customer</td>\n",
              "      <td>48</td>\n",
              "      <td>F</td>\n",
              "      <td>5</td>\n",
              "      <td>High School</td>\n",
              "      <td>Married</td>\n",
              "      <td>Less than $40K</td>\n",
              "      <td>Blue</td>\n",
              "      <td>38</td>\n",
              "      <td>1</td>\n",
              "      <td>3</td>\n",
              "      <td>8025.0</td>\n",
              "      <td>0</td>\n",
              "      <td>8025.0</td>\n",
              "      <td>673</td>\n",
              "      <td>18</td>\n",
              "      <td>0.000</td>\n",
              "    </tr>\n",
              "  </tbody>\n",
              "</table>\n",
              "</div>\n",
              "      <button class=\"colab-df-convert\" onclick=\"convertToInteractive('df-273ec9f7-b222-49c4-98ae-332e1c42dfc8')\"\n",
              "              title=\"Convert this dataframe to an interactive table.\"\n",
              "              style=\"display:none;\">\n",
              "        \n",
              "  <svg xmlns=\"http://www.w3.org/2000/svg\" height=\"24px\"viewBox=\"0 0 24 24\"\n",
              "       width=\"24px\">\n",
              "    <path d=\"M0 0h24v24H0V0z\" fill=\"none\"/>\n",
              "    <path d=\"M18.56 5.44l.94 2.06.94-2.06 2.06-.94-2.06-.94-.94-2.06-.94 2.06-2.06.94zm-11 1L8.5 8.5l.94-2.06 2.06-.94-2.06-.94L8.5 2.5l-.94 2.06-2.06.94zm10 10l.94 2.06.94-2.06 2.06-.94-2.06-.94-.94-2.06-.94 2.06-2.06.94z\"/><path d=\"M17.41 7.96l-1.37-1.37c-.4-.4-.92-.59-1.43-.59-.52 0-1.04.2-1.43.59L10.3 9.45l-7.72 7.72c-.78.78-.78 2.05 0 2.83L4 21.41c.39.39.9.59 1.41.59.51 0 1.02-.2 1.41-.59l7.78-7.78 2.81-2.81c.8-.78.8-2.07 0-2.86zM5.41 20L4 18.59l7.72-7.72 1.47 1.35L5.41 20z\"/>\n",
              "  </svg>\n",
              "      </button>\n",
              "      \n",
              "  <style>\n",
              "    .colab-df-container {\n",
              "      display:flex;\n",
              "      flex-wrap:wrap;\n",
              "      gap: 12px;\n",
              "    }\n",
              "\n",
              "    .colab-df-convert {\n",
              "      background-color: #E8F0FE;\n",
              "      border: none;\n",
              "      border-radius: 50%;\n",
              "      cursor: pointer;\n",
              "      display: none;\n",
              "      fill: #1967D2;\n",
              "      height: 32px;\n",
              "      padding: 0 0 0 0;\n",
              "      width: 32px;\n",
              "    }\n",
              "\n",
              "    .colab-df-convert:hover {\n",
              "      background-color: #E2EBFA;\n",
              "      box-shadow: 0px 1px 2px rgba(60, 64, 67, 0.3), 0px 1px 3px 1px rgba(60, 64, 67, 0.15);\n",
              "      fill: #174EA6;\n",
              "    }\n",
              "\n",
              "    [theme=dark] .colab-df-convert {\n",
              "      background-color: #3B4455;\n",
              "      fill: #D2E3FC;\n",
              "    }\n",
              "\n",
              "    [theme=dark] .colab-df-convert:hover {\n",
              "      background-color: #434B5C;\n",
              "      box-shadow: 0px 1px 3px 1px rgba(0, 0, 0, 0.15);\n",
              "      filter: drop-shadow(0px 1px 2px rgba(0, 0, 0, 0.3));\n",
              "      fill: #FFFFFF;\n",
              "    }\n",
              "  </style>\n",
              "\n",
              "      <script>\n",
              "        const buttonEl =\n",
              "          document.querySelector('#df-273ec9f7-b222-49c4-98ae-332e1c42dfc8 button.colab-df-convert');\n",
              "        buttonEl.style.display =\n",
              "          google.colab.kernel.accessAllowed ? 'block' : 'none';\n",
              "\n",
              "        async function convertToInteractive(key) {\n",
              "          const element = document.querySelector('#df-273ec9f7-b222-49c4-98ae-332e1c42dfc8');\n",
              "          const dataTable =\n",
              "            await google.colab.kernel.invokeFunction('convertToInteractive',\n",
              "                                                     [key], {});\n",
              "          if (!dataTable) return;\n",
              "\n",
              "          const docLinkHtml = 'Like what you see? Visit the ' +\n",
              "            '<a target=\"_blank\" href=https://colab.research.google.com/notebooks/data_table.ipynb>data table notebook</a>'\n",
              "            + ' to learn more about interactive tables.';\n",
              "          element.innerHTML = '';\n",
              "          dataTable['output_type'] = 'display_data';\n",
              "          await google.colab.output.renderOutput(dataTable, element);\n",
              "          const docLink = document.createElement('div');\n",
              "          docLink.innerHTML = docLinkHtml;\n",
              "          element.appendChild(docLink);\n",
              "        }\n",
              "      </script>\n",
              "    </div>\n",
              "  </div>\n",
              "  "
            ],
            "text/plain": [
              "     CLIENTNUM     Attrition_Flag  Customer_Age Gender  Dependent_count  \\\n",
              "21   708508758  Attrited Customer            62      F                0   \n",
              "39   708300483  Attrited Customer            66      F                0   \n",
              "51   779471883  Attrited Customer            54      F                1   \n",
              "82   711013983  Attrited Customer            55      F                4   \n",
              "140  789322833  Attrited Customer            48      F                5   \n",
              "\n",
              "    Education_Level Marital_Status Income_Category Card_Category  \\\n",
              "21         Graduate        Married  Less than $40K          Blue   \n",
              "39        Doctorate        Married         Unknown          Blue   \n",
              "51         Graduate        Married  Less than $40K          Blue   \n",
              "82          Unknown        Married     $40K - $60K          Blue   \n",
              "140     High School        Married  Less than $40K          Blue   \n",
              "\n",
              "     Months_on_book  Total_Relationship_Count  Months_Inactive_12_mon  \\\n",
              "21               49                         2                       3   \n",
              "39               56                         5                       4   \n",
              "51               40                         2                       3   \n",
              "82               45                         2                       4   \n",
              "140              38                         1                       3   \n",
              "\n",
              "     Credit_Limit  Total_Revolving_Bal  Avg_Open_To_Buy  Total_Trans_Amt  \\\n",
              "21         1438.3                    0           1438.3              692   \n",
              "39         7882.0                  605           7277.0              704   \n",
              "51         1438.3                  808            630.3              705   \n",
              "82         2158.0                    0           2158.0              615   \n",
              "140        8025.0                    0           8025.0              673   \n",
              "\n",
              "     Total_Trans_Ct  Avg_Utilization_Ratio  \n",
              "21               16                  0.000  \n",
              "39               16                  0.077  \n",
              "51               19                  0.562  \n",
              "82               12                  0.000  \n",
              "140              18                  0.000  "
            ]
          },
          "execution_count": 8,
          "metadata": {},
          "output_type": "execute_result"
        }
      ],
      "source": [
        "df_female = df_churned[df_churned['Gender'] == 'F']\n",
        "df_female.head()"
      ]
    },
    {
      "cell_type": "markdown",
      "metadata": {
        "id": "DIyM9qi1gdiC"
      },
      "source": []
    },
    {
      "cell_type": "code",
      "execution_count": null,
      "metadata": {
        "colab": {
          "base_uri": "https://localhost:8080/"
        },
        "id": "CXtzuTFgq4zs",
        "outputId": "29989753-d311-41fa-f487-d5219dbc8024"
      },
      "outputs": [
        {
          "data": {
            "text/plain": [
              "(930, 18)"
            ]
          },
          "execution_count": 48,
          "metadata": {},
          "output_type": "execute_result"
        }
      ],
      "source": [
        "df_female.shape"
      ]
    },
    {
      "cell_type": "markdown",
      "metadata": {
        "id": "slXeTFWZva1U"
      },
      "source": [
        "###7) from which income group churend females belongs to?"
      ]
    },
    {
      "cell_type": "code",
      "execution_count": null,
      "metadata": {
        "colab": {
          "base_uri": "https://localhost:8080/"
        },
        "id": "xAMWNa05rBUj",
        "outputId": "153334d8-0393-46a0-e33c-8f4d3b6cf93f"
      },
      "outputs": [
        {
          "data": {
            "text/plain": [
              "Less than $40K    582\n",
              "Unknown           182\n",
              "$40K - $60K       166\n",
              "Name: Income_Category, dtype: int64"
            ]
          },
          "execution_count": 49,
          "metadata": {},
          "output_type": "execute_result"
        }
      ],
      "source": [
        "df_female['Income_Category'].value_counts()"
      ]
    },
    {
      "cell_type": "code",
      "execution_count": null,
      "metadata": {
        "colab": {
          "base_uri": "https://localhost:8080/",
          "height": 287
        },
        "id": "BQ65r-z9okQy",
        "outputId": "2640e721-5f6f-4f04-c4fd-9053d35e664d"
      },
      "outputs": [
        {
          "data": {
            "image/png": "[encoded data removed]",
            "text/plain": [
              "<Figure size 432x288 with 1 Axes>"
            ]
          },
          "metadata": {},
          "output_type": "display_data"
        }
      ],
      "source": [
        "sns.countplot(x='Income_Category', data=df_female,color = 'blue');"
      ]
    },
    {
      "cell_type": "code",
      "execution_count": null,
      "metadata": {
        "colab": {
          "base_uri": "https://localhost:8080/"
        },
        "id": "MAqRvadFtimO",
        "outputId": "c0e6149a-37c5-47ff-8fc7-095b35e31d8d"
      },
      "outputs": [
        {
          "data": {
            "text/plain": [
              "Blue        890\n",
              "Silver       28\n",
              "Gold          8\n",
              "Platinum      4\n",
              "Name: Card_Category, dtype: int64"
            ]
          },
          "execution_count": 10,
          "metadata": {},
          "output_type": "execute_result"
        }
      ],
      "source": [
        "df_female['Card_Category'].value_counts()\n"
      ]
    },
    {
      "cell_type": "code",
      "execution_count": null,
      "metadata": {
        "colab": {
          "base_uri": "https://localhost:8080/",
          "height": 302
        },
        "id": "_hcPF3ZqtzR-",
        "outputId": "20a74806-3f2d-474b-faf2-591205a4f719"
      },
      "outputs": [
        {
          "data": {
            "text/plain": [
              "<matplotlib.axes._subplots.AxesSubplot at 0x7f96c6ca64c0>"
            ]
          },
          "execution_count": 11,
          "metadata": {},
          "output_type": "execute_result"
        },
        {
          "data": {
            "image/png": "[encoded data removed]",
            "text/plain": [
              "<Figure size 432x288 with 1 Axes>"
            ]
          },
          "metadata": {},
          "output_type": "display_data"
        }
      ],
      "source": [
        "sns.countplot(x='Card_Category', data=df_female,color = 'blue')"
      ]
    },
    {
      "cell_type": "markdown",
      "metadata": {
        "id": "ctJdhlQQlyPb"
      },
      "source": [
        "###Split churn female data according to income category i.e Less than $40k because at this Level people more leave credit card service."
      ]
    },
    {
      "cell_type": "code",
      "execution_count": null,
      "metadata": {
        "colab": {
          "base_uri": "https://localhost:8080/"
        },
        "id": "EfiZ5WvVBu4f",
        "outputId": "eccf1f05-cc01-4543-d825-37125ba68d35"
      },
      "outputs": [
        {
          "data": {
            "text/plain": [
              "(582, 18)"
            ]
          },
          "execution_count": 6,
          "metadata": {},
          "output_type": "execute_result"
        }
      ],
      "source": [
        "df_income = df_female[df_female['Income_Category'] == 'Less than $40K']\n",
        "df_income.shape"
      ]
    },
    {
      "cell_type": "markdown",
      "metadata": {
        "id": "j0uAj1xxmPmH"
      },
      "source": [
        "###Which credit card people have at this income level?"
      ]
    },
    {
      "cell_type": "code",
      "execution_count": null,
      "metadata": {
        "colab": {
          "base_uri": "https://localhost:8080/"
        },
        "id": "SlTraIgWfEV-",
        "outputId": "847604c5-da78-44f8-bc9b-1853a111bf51"
      },
      "outputs": [
        {
          "data": {
            "text/plain": [
              "Blue        559\n",
              "Silver       17\n",
              "Gold          4\n",
              "Platinum      2\n",
              "Name: Card_Category, dtype: int64"
            ]
          },
          "execution_count": 9,
          "metadata": {},
          "output_type": "execute_result"
        }
      ],
      "source": [
        "df_income['Card_Category'].value_counts()"
      ]
    },
    {
      "cell_type": "markdown",
      "metadata": {
        "id": "vUgFfqmkmcuA"
      },
      "source": [
        "###How many dependent counts churn female have at this level of income?"
      ]
    },
    {
      "cell_type": "code",
      "execution_count": null,
      "metadata": {
        "colab": {
          "base_uri": "https://localhost:8080/",
          "height": 285
        },
        "id": "0FqTQDDsfRDg",
        "outputId": "f34ead95-83bc-4b6f-de18-b9b039d0734d"
      },
      "outputs": [
        {
          "data": {
            "image/png": "[encoded data removed]",
            "text/plain": [
              "<Figure size 432x288 with 1 Axes>"
            ]
          },
          "metadata": {},
          "output_type": "display_data"
        }
      ],
      "source": [
        "df_income['Dependent_count'].value_counts()\n",
        "sns.countplot(x='Dependent_count', data=df_income);"
      ]
    },
    {
      "cell_type": "markdown",
      "metadata": {
        "id": "JV98YxUumseh"
      },
      "source": [
        "###What is the max credit card limit and total trans amount of churned female at this level  of income?"
      ]
    },
    {
      "cell_type": "code",
      "execution_count": null,
      "metadata": {
        "colab": {
          "base_uri": "https://localhost:8080/"
        },
        "id": "cXAQovzOf-9H",
        "outputId": "28242fcc-8510-4eeb-ecb6-da444a110dea"
      },
      "outputs": [
        {
          "data": {
            "text/plain": [
              "15987.0"
            ]
          },
          "execution_count": 11,
          "metadata": {},
          "output_type": "execute_result"
        }
      ],
      "source": [
        "df_income['Credit_Limit'].max()"
      ]
    },
    {
      "cell_type": "code",
      "execution_count": null,
      "metadata": {
        "colab": {
          "base_uri": "https://localhost:8080/"
        },
        "id": "G_s_L9BFgtZ0",
        "outputId": "d4b316d1-c163-4009-86f1-831673d6a4b2"
      },
      "outputs": [
        {
          "data": {
            "text/plain": [
              "10294"
            ]
          },
          "execution_count": 17,
          "metadata": {},
          "output_type": "execute_result"
        }
      ],
      "source": [
        "df_income['Total_Trans_Amt'].max()"
      ]
    },
    {
      "cell_type": "markdown",
      "metadata": {
        "id": "J803lZ8dnGWW"
      },
      "source": [
        "### How many people remain inactive?"
      ]
    },
    {
      "cell_type": "code",
      "execution_count": null,
      "metadata": {
        "colab": {
          "base_uri": "https://localhost:8080/"
        },
        "id": "3MPNKr3LhOtW",
        "outputId": "a6eb31f2-093a-40fa-9ffc-ed3bb33c5e5c"
      },
      "outputs": [
        {
          "data": {
            "text/plain": [
              "3    299\n",
              "2    187\n",
              "4     35\n",
              "1     34\n",
              "5     11\n",
              "6      9\n",
              "0      7\n",
              "Name: Months_Inactive_12_mon, dtype: int64"
            ]
          },
          "execution_count": 18,
          "metadata": {},
          "output_type": "execute_result"
        }
      ],
      "source": [
        "df_income['Months_Inactive_12_mon'].value_counts()"
      ]
    },
    {
      "cell_type": "markdown",
      "metadata": {
        "id": "4tQseMNEnNvE"
      },
      "source": [
        "###What is the marital status of churn females?"
      ]
    },
    {
      "cell_type": "code",
      "execution_count": null,
      "metadata": {
        "colab": {
          "background_save": true,
          "base_uri": "https://localhost:8080/",
          "height": 285
        },
        "id": "sApbbj8oh4E6",
        "outputId": "472204ff-1f69-47ce-95dd-c787547374d0"
      },
      "outputs": [
        {
          "data": {
            "image/png": "[encoded data removed]",
            "text/plain": [
              "<Figure size 432x288 with 1 Axes>"
            ]
          },
          "metadata": {},
          "output_type": "display_data"
        }
      ],
      "source": [
        "df_income['Marital_Status'].value_counts()\n",
        "sns.countplot(x='Marital_Status', data=df_income);"
      ]
    },
    {
      "cell_type": "markdown",
      "metadata": {
        "id": "uvRgJTCGnZF5"
      },
      "source": [
        "###What is the Education Level of churn females?"
      ]
    },
    {
      "cell_type": "code",
      "execution_count": null,
      "metadata": {
        "colab": {
          "base_uri": "https://localhost:8080/",
          "height": 285
        },
        "id": "muHkm6dIiM1p",
        "outputId": "743b4fd2-430b-49c0-e00e-369982844a0a"
      },
      "outputs": [
        {
          "data": {
            "image/png": "[encoded data removed]",
            "text/plain": [
              "<Figure size 432x288 with 1 Axes>"
            ]
          },
          "metadata": {},
          "output_type": "display_data"
        }
      ],
      "source": [
        "df_income['Education_Level'].value_counts()\n",
        "sns.countplot(y='Education_Level', data=df_income);"
      ]
    },
    {
      "cell_type": "code",
      "execution_count": null,
      "metadata": {
        "colab": {
          "base_uri": "https://localhost:8080/",
          "height": 338
        },
        "id": "zvzvXKX9sKri",
        "outputId": "05479081-5c77-4019-e84f-e2f4f3dad1fc"
      },
      "outputs": [
        {
          "data": {
            "image/png": "[encoded data removed]",
            "text/plain": [
              "<Figure size 1080x360 with 1 Axes>"
            ]
          },
          "metadata": {},
          "output_type": "display_data"
        }
      ],
      "source": [
        "plt.figure(figsize=(15,5))\n",
        "plt.hist(df_income['Total_Trans_Ct'], bins= 10)\n",
        "plt.title('total transctions')\n",
        "plt.show()"
      ]
    },
    {
      "cell_type": "markdown",
      "metadata": {
        "id": "WQ5Ku42G_lWh"
      },
      "source": [
        "###Analyze blue card holders churn customers."
      ]
    },
    {
      "cell_type": "code",
      "execution_count": null,
      "metadata": {
        "colab": {
          "base_uri": "https://localhost:8080/"
        },
        "id": "xDTCxL4Y_rXr",
        "outputId": "5350adda-6d70-498d-bc34-1ca9eaa516ec"
      },
      "outputs": [
        {
          "data": {
            "text/plain": [
              "(890, 18)"
            ]
          },
          "execution_count": 21,
          "metadata": {},
          "output_type": "execute_result"
        }
      ],
      "source": [
        "df_b = df_female[df_female['Card_Category'] == 'Blue']\n",
        "df_b.shape"
      ]
    },
    {
      "cell_type": "code",
      "execution_count": null,
      "metadata": {
        "colab": {
          "base_uri": "https://localhost:8080/"
        },
        "id": "Il47HSPu_5QD",
        "outputId": "d6bb9ca3-25c7-496e-a8e3-683a95d4f794"
      },
      "outputs": [
        {
          "data": {
            "text/plain": [
              "Less than $40K    559\n",
              "Unknown           171\n",
              "$40K - $60K       160\n",
              "Name: Income_Category, dtype: int64"
            ]
          },
          "execution_count": 22,
          "metadata": {},
          "output_type": "execute_result"
        }
      ],
      "source": [
        "df_b['Income_Category'].value_counts()"
      ]
    },
    {
      "cell_type": "code",
      "execution_count": null,
      "metadata": {
        "colab": {
          "base_uri": "https://localhost:8080/",
          "height": 264
        },
        "id": "2EOYb-fTS21Y",
        "outputId": "6ad2dd97-5842-4569-99cc-219e5dabd5dc"
      },
      "outputs": [
        {
          "data": {
            "image/png": "[encoded data removed]",
            "text/plain": [
              "<Figure size 432x288 with 1 Axes>"
            ]
          },
          "metadata": {},
          "output_type": "display_data"
        }
      ],
      "source": [
        "x = [559,171, 160]\n",
        "labels = ['Less than $40k', 'Unknown', '$40k - $60k']\n",
        "plt.pie(x, labels=labels, autopct='%1.f%%', shadow= True, startangle=90)\n",
        "plt.title(\"income category of blue card holders\")\n",
        "plt.show()"
      ]
    },
    {
      "cell_type": "code",
      "execution_count": null,
      "metadata": {
        "colab": {
          "base_uri": "https://localhost:8080/"
        },
        "id": "vus_H_CZAF_a",
        "outputId": "2cab9de5-9f78-4382-9d2a-dfed64bdc011"
      },
      "outputs": [
        {
          "data": {
            "text/plain": [
              "29543.0"
            ]
          },
          "execution_count": 23,
          "metadata": {},
          "output_type": "execute_result"
        }
      ],
      "source": [
        "df_b['Credit_Limit'].max()"
      ]
    },
    {
      "cell_type": "code",
      "execution_count": null,
      "metadata": {
        "colab": {
          "base_uri": "https://localhost:8080/"
        },
        "id": "IDaY0JKVAOA6",
        "outputId": "86fc84cd-3eff-44e8-a0cb-9d2b0252f3cc"
      },
      "outputs": [
        {
          "data": {
            "text/plain": [
              "Married     396\n",
              "Single      361\n",
              "Divorced     68\n",
              "Unknown      65\n",
              "Name: Marital_Status, dtype: int64"
            ]
          },
          "execution_count": 24,
          "metadata": {},
          "output_type": "execute_result"
        }
      ],
      "source": [
        "df_b['Marital_Status'].value_counts()"
      ]
    },
    {
      "cell_type": "code",
      "execution_count": null,
      "metadata": {
        "colab": {
          "base_uri": "https://localhost:8080/",
          "height": 285
        },
        "id": "q2ImEFsgTBC4",
        "outputId": "38fc9da1-6c6e-42fa-d210-d94a203a698b"
      },
      "outputs": [
        {
          "data": {
            "image/png": "[encoded data removed]",
            "text/plain": [
              "<Figure size 432x288 with 1 Axes>"
            ]
          },
          "metadata": {},
          "output_type": "display_data"
        }
      ],
      "source": [
        "sns.countplot(x='Marital_Status', data=df_b);"
      ]
    },
    {
      "cell_type": "code",
      "execution_count": null,
      "metadata": {
        "colab": {
          "base_uri": "https://localhost:8080/"
        },
        "id": "xZRZ7s6WAac5",
        "outputId": "ee355269-768a-48da-d14a-f4d94f3eefb2"
      },
      "outputs": [
        {
          "data": {
            "text/plain": [
              "3    262\n",
              "2    216\n",
              "1    163\n",
              "4    146\n",
              "0     74\n",
              "5     29\n",
              "Name: Dependent_count, dtype: int64"
            ]
          },
          "execution_count": 25,
          "metadata": {},
          "output_type": "execute_result"
        }
      ],
      "source": [
        "df_b['Dependent_count'].value_counts()"
      ]
    },
    {
      "cell_type": "code",
      "execution_count": null,
      "metadata": {
        "colab": {
          "base_uri": "https://localhost:8080/",
          "height": 320
        },
        "id": "fCsFH3U1UCKm",
        "outputId": "c06904e9-4a79-4502-b238-dcad16523d61"
      },
      "outputs": [
        {
          "data": {
            "text/plain": [
              "(array([ 74.,   0., 163.,   0., 216.,   0., 262.,   0., 146.,  29.]),\n",
              " array([0. , 0.5, 1. , 1.5, 2. , 2.5, 3. , 3.5, 4. , 4.5, 5. ]),\n",
              " <a list of 10 Patch objects>)"
            ]
          },
          "execution_count": 55,
          "metadata": {},
          "output_type": "execute_result"
        },
        {
          "data": {
            "image/png": "[encoded data removed]",
            "text/plain": [
              "<Figure size 432x288 with 1 Axes>"
            ]
          },
          "metadata": {},
          "output_type": "display_data"
        }
      ],
      "source": [
        "plt.hist(data = df_b, x = 'Dependent_count')"
      ]
    },
    {
      "cell_type": "markdown",
      "metadata": {
        "id": "Gqo39Xs_9-R_"
      },
      "source": [
        "###Analyze platinum card holders i.e their income ,credit limit and marital status."
      ]
    },
    {
      "cell_type": "code",
      "execution_count": null,
      "metadata": {
        "colab": {
          "base_uri": "https://localhost:8080/"
        },
        "id": "5v25-rDq8SOj",
        "outputId": "b4ed3c9d-637e-43b8-ac70-6af777a642ca"
      },
      "outputs": [
        {
          "data": {
            "text/plain": [
              "(4, 18)"
            ]
          },
          "execution_count": 10,
          "metadata": {},
          "output_type": "execute_result"
        }
      ],
      "source": [
        "df_p = df_female[df_female['Card_Category'] == 'Platinum']\n",
        "df_p.shape"
      ]
    },
    {
      "cell_type": "code",
      "execution_count": null,
      "metadata": {
        "colab": {
          "base_uri": "https://localhost:8080/"
        },
        "id": "GqZLJHmF82vK",
        "outputId": "993bbc97-0c17-4ed9-e469-38a37b87b0e3"
      },
      "outputs": [
        {
          "data": {
            "text/plain": [
              "Less than $40K    2\n",
              "Unknown           2\n",
              "Name: Income_Category, dtype: int64"
            ]
          },
          "execution_count": 11,
          "metadata": {},
          "output_type": "execute_result"
        }
      ],
      "source": [
        "df_p['Income_Category'].value_counts()"
      ]
    },
    {
      "cell_type": "code",
      "execution_count": null,
      "metadata": {
        "colab": {
          "base_uri": "https://localhost:8080/"
        },
        "id": "ek36JXVQ9G0w",
        "outputId": "0bf001bd-cee8-421c-c0a6-613c10deba9e"
      },
      "outputs": [
        {
          "data": {
            "text/plain": [
              "34516.0"
            ]
          },
          "execution_count": 12,
          "metadata": {},
          "output_type": "execute_result"
        }
      ],
      "source": [
        "df_p['Credit_Limit'].max()"
      ]
    },
    {
      "cell_type": "code",
      "execution_count": null,
      "metadata": {
        "colab": {
          "base_uri": "https://localhost:8080/"
        },
        "id": "bJMIJHbF9bTY",
        "outputId": "4011a263-477d-4b3a-a435-e5152b9da71b"
      },
      "outputs": [
        {
          "data": {
            "text/plain": [
              "Single     3\n",
              "Married    1\n",
              "Name: Marital_Status, dtype: int64"
            ]
          },
          "execution_count": 13,
          "metadata": {},
          "output_type": "execute_result"
        }
      ],
      "source": [
        "df_p['Marital_Status'].value_counts()"
      ]
    },
    {
      "cell_type": "markdown",
      "metadata": {
        "id": "wq3Ljk2w-YRk"
      },
      "source": [
        "###Analyze gold card holders customers."
      ]
    },
    {
      "cell_type": "code",
      "execution_count": null,
      "metadata": {
        "colab": {
          "base_uri": "https://localhost:8080/"
        },
        "id": "4FojM6dk-gk7",
        "outputId": "8a9f98ec-eaf1-49e4-a320-e9569442f311"
      },
      "outputs": [
        {
          "data": {
            "text/plain": [
              "(8, 18)"
            ]
          },
          "execution_count": 15,
          "metadata": {},
          "output_type": "execute_result"
        }
      ],
      "source": [
        "df_gold = df_female[df_female['Card_Category'] == 'Gold']\n",
        "df_gold.shape"
      ]
    },
    {
      "cell_type": "code",
      "execution_count": null,
      "metadata": {
        "colab": {
          "base_uri": "https://localhost:8080/"
        },
        "id": "uKCsW5HE-zU5",
        "outputId": "44f8a3f6-e397-459f-94d0-5192a4adf4f8"
      },
      "outputs": [
        {
          "data": {
            "text/plain": [
              "Less than $40K    4\n",
              "Unknown           2\n",
              "$40K - $60K       2\n",
              "Name: Income_Category, dtype: int64"
            ]
          },
          "execution_count": 16,
          "metadata": {},
          "output_type": "execute_result"
        }
      ],
      "source": [
        "df_gold['Income_Category'].value_counts()"
      ]
    },
    {
      "cell_type": "code",
      "execution_count": null,
      "metadata": {
        "colab": {
          "base_uri": "https://localhost:8080/"
        },
        "id": "a_Ogl8XW-725",
        "outputId": "1f3681a0-2317-4c3f-ef95-63ba3436ac77"
      },
      "outputs": [
        {
          "data": {
            "text/plain": [
              "34516.0"
            ]
          },
          "execution_count": 18,
          "metadata": {},
          "output_type": "execute_result"
        }
      ],
      "source": [
        "df_gold['Credit_Limit'].max()"
      ]
    },
    {
      "cell_type": "code",
      "execution_count": null,
      "metadata": {
        "colab": {
          "base_uri": "https://localhost:8080/"
        },
        "id": "WrzwKGMv_Y6M",
        "outputId": "61de8f3e-7c74-4a64-fb4c-68f78875a487"
      },
      "outputs": [
        {
          "data": {
            "text/plain": [
              "Single     5\n",
              "Married    2\n",
              "Unknown    1\n",
              "Name: Marital_Status, dtype: int64"
            ]
          },
          "execution_count": 19,
          "metadata": {},
          "output_type": "execute_result"
        }
      ],
      "source": [
        "df_gold['Marital_Status'].value_counts()"
      ]
    },
    {
      "cell_type": "code",
      "execution_count": null,
      "metadata": {
        "id": "dT9VdwiIh-d2"
      },
      "outputs": [],
      "source": [
        "df_s = df_female[df_female['Card_Category'] == 'Silver']"
      ]
    },
    {
      "cell_type": "code",
      "execution_count": null,
      "metadata": {
        "colab": {
          "base_uri": "https://localhost:8080/"
        },
        "id": "GbVfqNL2iXFT",
        "outputId": "ce73aef0-b139-4e59-c2e5-584219c6d52c"
      },
      "outputs": [
        {
          "data": {
            "text/plain": [
              "Less than $40K    17\n",
              "Unknown            7\n",
              "$40K - $60K        4\n",
              "Name: Income_Category, dtype: int64"
            ]
          },
          "execution_count": 58,
          "metadata": {},
          "output_type": "execute_result"
        }
      ],
      "source": [
        "df_s['Income_Category'].value_counts()"
      ]
    },
    {
      "cell_type": "code",
      "execution_count": null,
      "metadata": {
        "colab": {
          "base_uri": "https://localhost:8080/"
        },
        "id": "pS6YQ2O-ihRq",
        "outputId": "77260dc8-87b3-4ae4-d670-1c26fe97353c"
      },
      "outputs": [
        {
          "data": {
            "text/plain": [
              "Married    13\n",
              "Single     12\n",
              "Unknown     3\n",
              "Name: Marital_Status, dtype: int64"
            ]
          },
          "execution_count": 59,
          "metadata": {},
          "output_type": "execute_result"
        }
      ],
      "source": [
        "df_s['Marital_Status'].value_counts()"
      ]
    },
    {
      "cell_type": "code",
      "execution_count": null,
      "metadata": {
        "colab": {
          "base_uri": "https://localhost:8080/"
        },
        "id": "UmfnCGRTir_7",
        "outputId": "43133d86-5cc8-4ab7-ae1b-a7b7a620435f"
      },
      "outputs": [
        {
          "data": {
            "text/plain": [
              "34516.0"
            ]
          },
          "execution_count": 60,
          "metadata": {},
          "output_type": "execute_result"
        }
      ],
      "source": [
        "df_s['Credit_Limit'].max()"
      ]
    },
    {
      "cell_type": "markdown",
      "metadata": {
        "id": "e6fknlfvImd3"
      },
      "source": [
        "###13)\tHow many total transactions churned people do  in last 12 months."
      ]
    },
    {
      "cell_type": "code",
      "execution_count": null,
      "metadata": {
        "colab": {
          "base_uri": "https://localhost:8080/",
          "height": 338
        },
        "id": "xy87whBVIoW2",
        "outputId": "b91fdd89-81de-4a8f-b87a-dc22052c8a52"
      },
      "outputs": [
        {
          "data": {
            "image/png": "[encoded data removed]",
            "text/plain": [
              "<Figure size 1080x360 with 1 Axes>"
            ]
          },
          "metadata": {},
          "output_type": "display_data"
        }
      ],
      "source": [
        "plt.figure(figsize=(15,5))\n",
        "plt.hist(df_churned['Total_Trans_Ct'], bins=20)\n",
        "plt.title('total transctions')\n",
        "plt.show()"
      ]
    },
    {
      "cell_type": "markdown",
      "metadata": {
        "id": "8zV9zEjzTKZp"
      },
      "source": [
        "###16)corelation"
      ]
    },
    {
      "cell_type": "code",
      "execution_count": null,
      "metadata": {
        "colab": {
          "base_uri": "https://localhost:8080/",
          "height": 655
        },
        "id": "IvObbkuQTP-q",
        "outputId": "0be7685a-53d9-4d94-acae-3be1a773596f"
      },
      "outputs": [
        {
          "data": {
            "image/png": "[encoded data removed]",
            "text/plain": [
              "<Figure size 1080x432 with 2 Axes>"
            ]
          },
          "metadata": {},
          "output_type": "display_data"
        }
      ],
      "source": [
        "sns.set_context('poster')\n",
        "plt.figure(figsize=(15,6))\n",
        "cor=df.drop(['CLIENTNUM','Months_on_book', 'Total_Trans_Ct', 'Months_Inactive_12_mon'], axis=1).corr()\n",
        "sns.heatmap(cor, annot=True, fmt='.1g');"
      ]
    },
    {
      "cell_type": "markdown",
      "metadata": {
        "id": "xCxQZEc2lOFP"
      },
      "source": [
        "###Analyzing credit limits and avg utilization ration of different income groups groups."
      ]
    },
    {
      "cell_type": "code",
      "execution_count": null,
      "metadata": {
        "id": "zfI3Fci4lHDI"
      },
      "outputs": [],
      "source": []
    },
    {
      "cell_type": "code",
      "execution_count": null,
      "metadata": {
        "colab": {
          "base_uri": "https://localhost:8080/"
        },
        "id": "IFikjTUClH72",
        "outputId": "8a7bf541-a69a-4069-c7a1-0414bcb515c9"
      },
      "outputs": [
        {
          "data": {
            "text/plain": [
              "15987.0"
            ]
          },
          "execution_count": 84,
          "metadata": {},
          "output_type": "execute_result"
        }
      ],
      "source": [
        "df_income = df_churned[df_churned['Income_Category'] == 'Less than $40K']\n",
        "df_income['Credit_Limit'].max()\n"
      ]
    },
    {
      "cell_type": "code",
      "execution_count": null,
      "metadata": {
        "colab": {
          "base_uri": "https://localhost:8080/"
        },
        "id": "yt413AxlluQ1",
        "outputId": "019e8d0b-f6af-4ee3-b9ad-2dfa46cafc88"
      },
      "outputs": [
        {
          "data": {
            "text/plain": [
              "0.995"
            ]
          },
          "execution_count": 85,
          "metadata": {},
          "output_type": "execute_result"
        }
      ],
      "source": [
        "df_income['Avg_Utilization_Ratio'].max()"
      ]
    },
    {
      "cell_type": "code",
      "execution_count": null,
      "metadata": {
        "colab": {
          "base_uri": "https://localhost:8080/"
        },
        "id": "7ZBeaLBal3OB",
        "outputId": "b20c0aad-03b7-4f62-d191-7776d9c0dc84"
      },
      "outputs": [
        {
          "data": {
            "text/plain": [
              "(271, 18)"
            ]
          },
          "execution_count": 86,
          "metadata": {},
          "output_type": "execute_result"
        }
      ],
      "source": [
        "df_income1 = df_churned[df_churned['Income_Category'] == '$40K - $60K']\n",
        "df_income1.shape"
      ]
    },
    {
      "cell_type": "code",
      "execution_count": null,
      "metadata": {
        "colab": {
          "base_uri": "https://localhost:8080/"
        },
        "id": "ECA7CybqmxPb",
        "outputId": "859c4cd5-7645-4f50-8c48-6a2213af31ae"
      },
      "outputs": [
        {
          "data": {
            "text/plain": [
              "23981.0"
            ]
          },
          "execution_count": 87,
          "metadata": {},
          "output_type": "execute_result"
        }
      ],
      "source": [
        "df_income1['Credit_Limit'].max()"
      ]
    },
    {
      "cell_type": "code",
      "execution_count": null,
      "metadata": {
        "colab": {
          "base_uri": "https://localhost:8080/"
        },
        "id": "E7C_U7wunHC5",
        "outputId": "a08187e1-8011-472a-d02a-da44908dddce"
      },
      "outputs": [
        {
          "data": {
            "text/plain": [
              "0.999"
            ]
          },
          "execution_count": 88,
          "metadata": {},
          "output_type": "execute_result"
        }
      ],
      "source": [
        "df_income1['Avg_Utilization_Ratio'].max()"
      ]
    },
    {
      "cell_type": "code",
      "execution_count": null,
      "metadata": {
        "colab": {
          "base_uri": "https://localhost:8080/"
        },
        "id": "iTM1e3C_nQVu",
        "outputId": "27ee1a35-5562-4341-cbb5-a5ef0a23a2dd"
      },
      "outputs": [
        {
          "data": {
            "text/plain": [
              "(187, 18)"
            ]
          },
          "execution_count": 89,
          "metadata": {},
          "output_type": "execute_result"
        }
      ],
      "source": [
        "df_income2 = df_churned[df_churned['Income_Category'] == 'Unknown']\n",
        "df_income2.shape"
      ]
    },
    {
      "cell_type": "code",
      "execution_count": null,
      "metadata": {
        "colab": {
          "base_uri": "https://localhost:8080/"
        },
        "id": "96F7UFJ6oYKA",
        "outputId": "b5a72e11-14a3-43fa-cf4d-4e5aceff0c83"
      },
      "outputs": [
        {
          "data": {
            "text/plain": [
              "34516.0"
            ]
          },
          "execution_count": 90,
          "metadata": {},
          "output_type": "execute_result"
        }
      ],
      "source": [
        "df_income2['Credit_Limit'].max()"
      ]
    },
    {
      "cell_type": "code",
      "execution_count": null,
      "metadata": {
        "colab": {
          "base_uri": "https://localhost:8080/"
        },
        "id": "m2BJkhc-ods_",
        "outputId": "7aba0c87-68f0-4f03-bfdb-0bc06665bbcd"
      },
      "outputs": [
        {
          "data": {
            "text/plain": [
              "0.992"
            ]
          },
          "execution_count": 91,
          "metadata": {},
          "output_type": "execute_result"
        }
      ],
      "source": [
        "df_income2['Avg_Utilization_Ratio'].max()"
      ]
    },
    {
      "cell_type": "code",
      "execution_count": null,
      "metadata": {
        "colab": {
          "base_uri": "https://localhost:8080/"
        },
        "id": "gO8Imsj_pX0c",
        "outputId": "44a002c5-334f-4625-b61f-902716c77912"
      },
      "outputs": [
        {
          "data": {
            "text/plain": [
              "(0, 18)"
            ]
          },
          "execution_count": 96,
          "metadata": {},
          "output_type": "execute_result"
        }
      ],
      "source": [
        "df_income3 = df_churned[df_churned['Income_Category'] == '$80k - $120k']\n",
        "df_income3.shape"
      ]
    },
    {
      "cell_type": "code",
      "execution_count": null,
      "metadata": {
        "colab": {
          "base_uri": "https://localhost:8080/"
        },
        "id": "Ia328m8wpoX0",
        "outputId": "682638a2-7c41-413c-d76c-b3b460e89081"
      },
      "outputs": [
        {
          "data": {
            "text/plain": [
              "(0, 18)"
            ]
          },
          "execution_count": 95,
          "metadata": {},
          "output_type": "execute_result"
        }
      ],
      "source": [
        "df_income4 = df_churned[df_churned['Income_Category'] == '$120k+']\n",
        "df_income4.shape"
      ]
    }
  ],
  "metadata": {
    "colab": {
      "provenance": [],
      "authorship_tag": "ABX9TyOXj/thAtt95JraSlgzbJyy",
      "include_colab_link": true
    },
    "kernelspec": {
      "display_name": "Python 3",
      "name": "python3"
    },
    "language_info": {
      "name": "python"
    }
  },
  "nbformat": 4,
  "nbformat_minor": 0
}